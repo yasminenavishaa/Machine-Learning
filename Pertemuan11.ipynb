{
  "nbformat": 4,
  "nbformat_minor": 0,
  "metadata": {
    "colab": {
      "provenance": [],
      "gpuType": "T4",
      "authorship_tag": "ABX9TyN8w8zoYkKCQRqJWE+XhDXt",
      "include_colab_link": true
    },
    "kernelspec": {
      "name": "python3",
      "display_name": "Python 3"
    },
    "language_info": {
      "name": "python"
    },
    "accelerator": "GPU"
  },
  "cells": [
    {
      "cell_type": "markdown",
      "metadata": {
        "id": "view-in-github",
        "colab_type": "text"
      },
      "source": [
        "<a href=\"https://colab.research.google.com/github/yasminenavishaa/Machine-Learning/blob/main/Pertemuan11.ipynb\" target=\"_parent\"><img src=\"https://colab.research.google.com/assets/colab-badge.svg\" alt=\"Open In Colab\"/></a>"
      ]
    },
    {
      "cell_type": "markdown",
      "source": [
        "# **Job Sheet 11: Convolutional Neural Network (CNN) **\n",
        "Nama : Yasmine Navisha Andhani\n",
        "\n",
        "Kelas : D4-TI / 3G\n",
        "\n",
        "NIM : 2141720047\n",
        "\n",
        "Github : https://github.com/yasminenavishaa/Machine-Learning\n",
        "\n",
        "## **Praktikum 1: Klasifikasi Kucing dan Anjing**\n",
        "**Deskripsi**\n",
        "Pada praktikum ini kita akan membuat model klasifikasi CNN sederhana pada kasus citra kucing dan anjing.\n",
        "\n",
        "**Dataset**\n",
        "Dataset merupakan data citra anjing dan kucing yang telah dibagi menjadi data training dan data testing.\n",
        "\n",
        "### **Langkah 1 - Import Library**"
      ],
      "metadata": {
        "id": "OIn_RZPdMVQC"
      }
    },
    {
      "cell_type": "code",
      "source": [
        "from google.colab import drive\n",
        "drive.mount('/content/drive')"
      ],
      "metadata": {
        "colab": {
          "base_uri": "https://localhost:8080/"
        },
        "id": "hhVtcMo8RQ2t",
        "outputId": "2ad54809-1f7d-4c05-d1be-dd565040a529"
      },
      "execution_count": null,
      "outputs": [
        {
          "output_type": "stream",
          "name": "stdout",
          "text": [
            "Mounted at /content/drive\n"
          ]
        }
      ]
    },
    {
      "cell_type": "code",
      "execution_count": null,
      "metadata": {
        "id": "xvQp2TzzH91W"
      },
      "outputs": [],
      "source": [
        "import tensorflow as tf\n",
        "from keras.preprocessing.image import ImageDataGenerator"
      ]
    },
    {
      "cell_type": "markdown",
      "source": [
        "### **Langkah 2 - Pra Pengolahan Data**\n",
        "Pada tahap ini kita akan sedikit melakukan manipulasi pada citra yang digunakan. Manipulasi yang dilakukan diantaranya adalah normalisasi nilai piksel, koreksi kemiringan, pembesaran (zoom), dan flip.\n",
        "\n",
        "#### Langkah 2.1. Pra Pengolahan Data Training"
      ],
      "metadata": {
        "id": "zwwA5XHnNVi-"
      }
    },
    {
      "cell_type": "code",
      "source": [
        "train_datagen = ImageDataGenerator(rescale = 1./255,\n",
        "                                   shear_range = 0.2,\n",
        "                                   zoom_range = 0.2,\n",
        "                                   horizontal_flip = True)\n",
        "training_set = train_datagen.flow_from_directory('/content/drive/MyDrive/SEMESTER 5/Machine Learning/dataset/training_set',\n",
        "                                                 target_size = (64, 64),\n",
        "                                                 batch_size = 32,\n",
        "                                                 class_mode = 'binary')"
      ],
      "metadata": {
        "colab": {
          "base_uri": "https://localhost:8080/"
        },
        "id": "fF3tSjXvNVJY",
        "outputId": "b3ff949a-1c16-43cb-c842-fafbf5b55b8b"
      },
      "execution_count": null,
      "outputs": [
        {
          "output_type": "stream",
          "name": "stdout",
          "text": [
            "Found 8000 images belonging to 2 classes.\n"
          ]
        }
      ]
    },
    {
      "cell_type": "markdown",
      "source": [
        "#### Langkah 2.2. Pra Pengolahan Data Testing"
      ],
      "metadata": {
        "id": "NfU7vtK_Nm9Z"
      }
    },
    {
      "cell_type": "code",
      "source": [
        "test_datagen = ImageDataGenerator(rescale = 1./255)\n",
        "test_set = test_datagen.flow_from_directory('/content/drive/MyDrive/SEMESTER 5/Machine Learning/dataset/test_set',\n",
        "                                            target_size = (64, 64),\n",
        "                                            batch_size = 32,\n",
        "                                            class_mode = 'binary')"
      ],
      "metadata": {
        "colab": {
          "base_uri": "https://localhost:8080/"
        },
        "id": "2uPO4G7-Nq0U",
        "outputId": "4510fda8-ed31-4c52-b196-2f9ffa08343a"
      },
      "execution_count": null,
      "outputs": [
        {
          "output_type": "stream",
          "name": "stdout",
          "text": [
            "Found 2000 images belonging to 2 classes.\n"
          ]
        }
      ]
    },
    {
      "cell_type": "markdown",
      "source": [
        "### **Langkah 3 - Pembuatan Model CNN**\n",
        "\n",
        "#### 3.1. - Inisiasi Model CNN"
      ],
      "metadata": {
        "id": "e6jGQekVNr1B"
      }
    },
    {
      "cell_type": "code",
      "source": [
        "cnn = tf.keras.models.Sequential()"
      ],
      "metadata": {
        "id": "U9IECSQvOMHf"
      },
      "execution_count": null,
      "outputs": []
    },
    {
      "cell_type": "markdown",
      "source": [
        "#### 3.2. - Pembuatan Layer Konvolusi 1"
      ],
      "metadata": {
        "id": "amdNsVy_OOhn"
      }
    },
    {
      "cell_type": "code",
      "source": [
        "cnn.add(tf.keras.layers.Conv2D(filters=32, kernel_size=3, activation='relu', input_shape=[64, 64, 3]))"
      ],
      "metadata": {
        "id": "adIcK9tZORPW"
      },
      "execution_count": null,
      "outputs": []
    },
    {
      "cell_type": "markdown",
      "source": [
        "#### Langkah 3.3 - Pembuatan Layer Pooling 1"
      ],
      "metadata": {
        "id": "j2UlpuCSOVdB"
      }
    },
    {
      "cell_type": "code",
      "source": [
        "cnn.add(tf.keras.layers.MaxPool2D(pool_size=2, strides=2))"
      ],
      "metadata": {
        "id": "6Gb4LiyuOXfq"
      },
      "execution_count": null,
      "outputs": []
    },
    {
      "cell_type": "markdown",
      "source": [
        "#### Langkah 3.4 - Pembuatan Layer Konvolusi 2 dan Pooling 2"
      ],
      "metadata": {
        "id": "Zy1hCjyTOZ5J"
      }
    },
    {
      "cell_type": "code",
      "source": [
        "cnn.add(tf.keras.layers.Conv2D(filters=32, kernel_size=3, activation='relu'))\n",
        "cnn.add(tf.keras.layers.MaxPool2D(pool_size=2, strides=2))"
      ],
      "metadata": {
        "id": "9UYgNfmFObqP"
      },
      "execution_count": null,
      "outputs": []
    },
    {
      "cell_type": "markdown",
      "source": [
        "#### Langkah 3.5 - Flattening"
      ],
      "metadata": {
        "id": "OTTWnslwOdQR"
      }
    },
    {
      "cell_type": "code",
      "source": [
        "cnn.add(tf.keras.layers.Flatten())"
      ],
      "metadata": {
        "id": "Ydd3S-mhOfBm"
      },
      "execution_count": null,
      "outputs": []
    },
    {
      "cell_type": "markdown",
      "source": [
        "#### Langkah 3.6 - Fully Connected Layer 1 (Input)"
      ],
      "metadata": {
        "id": "SXZmJGgrOmby"
      }
    },
    {
      "cell_type": "code",
      "source": [
        "cnn.add(tf.keras.layers.Dense(units=128, activation='relu'))"
      ],
      "metadata": {
        "id": "pN_PFYrVOoYq"
      },
      "execution_count": null,
      "outputs": []
    },
    {
      "cell_type": "markdown",
      "source": [
        "#### Langkah 3.7 - Fully Connected Layer 2 (Output)"
      ],
      "metadata": {
        "id": "qXycNhr0Oqey"
      }
    },
    {
      "cell_type": "code",
      "source": [
        "cnn.add(tf.keras.layers.Dense(units=1, activation='sigmoid'))"
      ],
      "metadata": {
        "id": "8WbG5JYZOs3N"
      },
      "execution_count": null,
      "outputs": []
    },
    {
      "cell_type": "markdown",
      "source": [
        "#### Langkah 3.8 - Compile Model CNN"
      ],
      "metadata": {
        "id": "wdcvdTiTOvuj"
      }
    },
    {
      "cell_type": "code",
      "source": [
        "cnn.compile(optimizer = 'adam', loss = 'binary_crossentropy', metrics = ['accuracy'])"
      ],
      "metadata": {
        "id": "U3SF1ppAOxb-"
      },
      "execution_count": null,
      "outputs": []
    },
    {
      "cell_type": "markdown",
      "source": [
        "Penggunaan loss function binary crossentropy dikarenakan kita hanya melakukan klasifikasi pada dua kelas, yaitu kucing dan anjing.\n",
        "\n",
        "### **Langkah 4 - Fit CNN**"
      ],
      "metadata": {
        "id": "1wH5UORqOzUz"
      }
    },
    {
      "cell_type": "code",
      "source": [
        "cnn.fit(x = training_set, validation_data = test_set, epochs = 25)"
      ],
      "metadata": {
        "colab": {
          "base_uri": "https://localhost:8080/"
        },
        "id": "Hy50PMeOO5N2",
        "outputId": "05543f3a-d68e-4604-cbd1-ca71b83a2528"
      },
      "execution_count": null,
      "outputs": [
        {
          "output_type": "stream",
          "name": "stdout",
          "text": [
            "Epoch 1/25\n",
            "250/250 [==============================] - 4094s 16s/step - loss: 0.6637 - accuracy: 0.5889 - val_loss: 0.5968 - val_accuracy: 0.6975\n",
            "Epoch 2/25\n",
            "250/250 [==============================] - 40s 160ms/step - loss: 0.5915 - accuracy: 0.6876 - val_loss: 0.5558 - val_accuracy: 0.7200\n",
            "Epoch 3/25\n",
            "250/250 [==============================] - 39s 156ms/step - loss: 0.5588 - accuracy: 0.7111 - val_loss: 0.5288 - val_accuracy: 0.7365\n",
            "Epoch 4/25\n",
            "250/250 [==============================] - 39s 156ms/step - loss: 0.5260 - accuracy: 0.7380 - val_loss: 0.5504 - val_accuracy: 0.7120\n",
            "Epoch 5/25\n",
            "250/250 [==============================] - 44s 177ms/step - loss: 0.5016 - accuracy: 0.7535 - val_loss: 0.4924 - val_accuracy: 0.7730\n",
            "Epoch 6/25\n",
            "250/250 [==============================] - 39s 155ms/step - loss: 0.4855 - accuracy: 0.7606 - val_loss: 0.4999 - val_accuracy: 0.7770\n",
            "Epoch 7/25\n",
            "250/250 [==============================] - 39s 157ms/step - loss: 0.4607 - accuracy: 0.7806 - val_loss: 0.4714 - val_accuracy: 0.7890\n",
            "Epoch 8/25\n",
            "250/250 [==============================] - 39s 155ms/step - loss: 0.4542 - accuracy: 0.7849 - val_loss: 0.4785 - val_accuracy: 0.7730\n",
            "Epoch 9/25\n",
            "250/250 [==============================] - 44s 175ms/step - loss: 0.4422 - accuracy: 0.7943 - val_loss: 0.4921 - val_accuracy: 0.7580\n",
            "Epoch 10/25\n",
            "250/250 [==============================] - 39s 155ms/step - loss: 0.4336 - accuracy: 0.7949 - val_loss: 0.4817 - val_accuracy: 0.7795\n",
            "Epoch 11/25\n",
            "250/250 [==============================] - 39s 156ms/step - loss: 0.4262 - accuracy: 0.7977 - val_loss: 0.4688 - val_accuracy: 0.7820\n",
            "Epoch 12/25\n",
            "250/250 [==============================] - 39s 156ms/step - loss: 0.4107 - accuracy: 0.8130 - val_loss: 0.4527 - val_accuracy: 0.7860\n",
            "Epoch 13/25\n",
            "250/250 [==============================] - 38s 154ms/step - loss: 0.4090 - accuracy: 0.8083 - val_loss: 0.4927 - val_accuracy: 0.7855\n",
            "Epoch 14/25\n",
            "250/250 [==============================] - 38s 153ms/step - loss: 0.3965 - accuracy: 0.8158 - val_loss: 0.4709 - val_accuracy: 0.7845\n",
            "Epoch 15/25\n",
            "250/250 [==============================] - 40s 158ms/step - loss: 0.3841 - accuracy: 0.8271 - val_loss: 0.4786 - val_accuracy: 0.7870\n",
            "Epoch 16/25\n",
            "250/250 [==============================] - 39s 157ms/step - loss: 0.3752 - accuracy: 0.8290 - val_loss: 0.4632 - val_accuracy: 0.7855\n",
            "Epoch 17/25\n",
            "250/250 [==============================] - 44s 177ms/step - loss: 0.3736 - accuracy: 0.8298 - val_loss: 0.4622 - val_accuracy: 0.7865\n",
            "Epoch 18/25\n",
            "250/250 [==============================] - 40s 159ms/step - loss: 0.3573 - accuracy: 0.8384 - val_loss: 0.4736 - val_accuracy: 0.7970\n",
            "Epoch 19/25\n",
            "250/250 [==============================] - 40s 158ms/step - loss: 0.3615 - accuracy: 0.8385 - val_loss: 0.5078 - val_accuracy: 0.7825\n",
            "Epoch 20/25\n",
            "250/250 [==============================] - 44s 178ms/step - loss: 0.3411 - accuracy: 0.8453 - val_loss: 0.4629 - val_accuracy: 0.8060\n",
            "Epoch 21/25\n",
            "250/250 [==============================] - 39s 155ms/step - loss: 0.3389 - accuracy: 0.8490 - val_loss: 0.4391 - val_accuracy: 0.8115\n",
            "Epoch 22/25\n",
            "250/250 [==============================] - 39s 158ms/step - loss: 0.3262 - accuracy: 0.8549 - val_loss: 0.4611 - val_accuracy: 0.8045\n",
            "Epoch 23/25\n",
            "250/250 [==============================] - 39s 157ms/step - loss: 0.3254 - accuracy: 0.8574 - val_loss: 0.5341 - val_accuracy: 0.7875\n",
            "Epoch 24/25\n",
            "250/250 [==============================] - 39s 158ms/step - loss: 0.3225 - accuracy: 0.8580 - val_loss: 0.4646 - val_accuracy: 0.8075\n",
            "Epoch 25/25\n",
            "250/250 [==============================] - 45s 181ms/step - loss: 0.3029 - accuracy: 0.8685 - val_loss: 0.4686 - val_accuracy: 0.8040\n"
          ]
        },
        {
          "output_type": "execute_result",
          "data": {
            "text/plain": [
              "<keras.src.callbacks.History at 0x7b0e017b3dc0>"
            ]
          },
          "metadata": {},
          "execution_count": 13
        }
      ]
    },
    {
      "cell_type": "markdown",
      "source": [
        "### Langkah 5 - Prediksi dengan 1 Citra\n",
        "Pada langkah ini, kita akan mencoba melakukan prediksi pada 1 citra anjing dan kucing."
      ],
      "metadata": {
        "id": "mnl90AicO6XI"
      }
    },
    {
      "cell_type": "code",
      "source": [
        "import numpy as np\n",
        "from keras.preprocessing import image\n",
        "test_image = image.load_img('/content/drive/MyDrive/SEMESTER 5/Machine Learning/dataset/single_prediction/cat_or_dog_1.jpg', target_size = (64, 64))\n",
        "test_image = image.img_to_array(test_image)\n",
        "test_image = np.expand_dims(test_image, axis = 0)\n",
        "result = cnn.predict(test_image)\n",
        "training_set.class_indices\n",
        "if result[0][0] == 1:\n",
        "  prediction = 'dog'\n",
        "else:\n",
        "  prediction = 'cat'"
      ],
      "metadata": {
        "colab": {
          "base_uri": "https://localhost:8080/"
        },
        "id": "mS_r_lJeO_q1",
        "outputId": "d1de212f-1ce2-4e13-cad2-3572264fd022"
      },
      "execution_count": null,
      "outputs": [
        {
          "output_type": "stream",
          "name": "stdout",
          "text": [
            "1/1 [==============================] - 0s 162ms/step\n"
          ]
        }
      ]
    },
    {
      "cell_type": "markdown",
      "source": [
        "## Praktikum 2: Klasifikasi Multi-label dengan Data CIFAT\n",
        "\n",
        "**Deskripsi**\n",
        "\n",
        "Pada praktikum ini kita akan membuat model CNN untuk mengklasifikasikan 10 objek dari dataset CIFAR. Dataset terdiri dari 60.000 citra dan setiap label terdiri dari 6.000 citra. Dataset telah dibagi menjadi 50.000 data training dan 10.000 data testing."
      ],
      "metadata": {
        "id": "TfpqNX_4PBJj"
      }
    },
    {
      "cell_type": "markdown",
      "source": [
        "### **Langkah 1 - Load Library**"
      ],
      "metadata": {
        "id": "NQZ_9YThPhxU"
      }
    },
    {
      "cell_type": "code",
      "source": [
        "import tensorflow as tf\n",
        "\n",
        "from tensorflow.keras import datasets, layers, models\n",
        "import matplotlib.pyplot as plt"
      ],
      "metadata": {
        "id": "M3cofRYmPoMF"
      },
      "execution_count": null,
      "outputs": []
    },
    {
      "cell_type": "markdown",
      "source": [
        "### **Langkah 2 - Unduh Dataset CIFAR**"
      ],
      "metadata": {
        "id": "JR9Gmp31Ppji"
      }
    },
    {
      "cell_type": "code",
      "source": [
        "(train_images, train_labels), (test_images, test_labels) = datasets.cifar10.load_data()\n",
        "\n",
        "# Normalize pixel values to be between 0 and 1\n",
        "train_images, test_images = train_images / 255.0, test_images / 255.0"
      ],
      "metadata": {
        "colab": {
          "base_uri": "https://localhost:8080/"
        },
        "id": "1JLc9qaUPuJs",
        "outputId": "8db4623e-4d47-461c-ced5-63364572b44a"
      },
      "execution_count": null,
      "outputs": [
        {
          "output_type": "stream",
          "name": "stdout",
          "text": [
            "Downloading data from https://www.cs.toronto.edu/~kriz/cifar-10-python.tar.gz\n",
            "170498071/170498071 [==============================] - 13s 0us/step\n"
          ]
        }
      ]
    },
    {
      "cell_type": "markdown",
      "source": [
        "### **Langkah 3 - Verifikasi Data**"
      ],
      "metadata": {
        "id": "ytmVSeQaPv1l"
      }
    },
    {
      "cell_type": "code",
      "source": [
        "class_names = ['airplane', 'automobile', 'bird', 'cat', 'deer', 'dog', 'frog', 'horse', 'ship', 'truck']\n",
        "\n",
        "plt.figure(figsize=(10,10))\n",
        "for i in range(25):\n",
        " plt.subplot(5,5,i+1)\n",
        " plt.xticks([])\n",
        " plt.yticks([])\n",
        " plt.grid(False)\n",
        " plt.imshow(train_images[i])\n",
        " # The CIFAR labels happen to be arrays,\n",
        " # which is why you need the extra index\n",
        " plt.xlabel(class_names[train_labels[i][0]])\n",
        "plt.show()"
      ],
      "metadata": {
        "colab": {
          "base_uri": "https://localhost:8080/",
          "height": 657
        },
        "id": "F3tt0-gXPyGL",
        "outputId": "829a8787-62ae-4724-b0d1-67edf9c510b9"
      },
      "execution_count": null,
      "outputs": [
        {
          "output_type": "display_data",
          "data": {
            "text/plain": [
              "<Figure size 1000x1000 with 25 Axes>"
            ],
            "image/png": "[encoded data removed]"
          },
          "metadata": {}
        }
      ]
    },
    {
      "cell_type": "markdown",
      "source": [
        "### Langkah 4 - Buat Model CNN\n",
        "\n",
        "#### Langkah 4.1. - Buat Layer Konvolusi"
      ],
      "metadata": {
        "id": "yNXBHPzRQAdS"
      }
    },
    {
      "cell_type": "code",
      "source": [
        "model = models.Sequential()\n",
        "model.add(layers.Conv2D(32, (3, 3), activation='relu', input_shape=(32, 32, 3)))\n",
        "model.add(layers.MaxPooling2D((2, 2)))\n",
        "model.add(layers.Conv2D(64, (3, 3), activation='relu'))\n",
        "model.add(layers.MaxPooling2D((2, 2)))\n",
        "model.add(layers.Conv2D(64, (3, 3), activation='relu'))"
      ],
      "metadata": {
        "id": "Pi-qUQE-QLLG"
      },
      "execution_count": null,
      "outputs": []
    },
    {
      "cell_type": "markdown",
      "source": [
        "#### Langkah 4.2. - Cek Arsitektur Konvolusi"
      ],
      "metadata": {
        "id": "UMvxPXlSQNMz"
      }
    },
    {
      "cell_type": "code",
      "source": [
        "model.summary()"
      ],
      "metadata": {
        "colab": {
          "base_uri": "https://localhost:8080/"
        },
        "id": "zsQyvgN9QPm5",
        "outputId": "82f4b30b-f13f-498d-aa09-e7f75011a97e"
      },
      "execution_count": null,
      "outputs": [
        {
          "output_type": "stream",
          "name": "stdout",
          "text": [
            "Model: \"sequential_1\"\n",
            "_________________________________________________________________\n",
            " Layer (type)                Output Shape              Param #   \n",
            "=================================================================\n",
            " conv2d_2 (Conv2D)           (None, 30, 30, 32)        896       \n",
            "                                                                 \n",
            " max_pooling2d_2 (MaxPoolin  (None, 15, 15, 32)        0         \n",
            " g2D)                                                            \n",
            "                                                                 \n",
            " conv2d_3 (Conv2D)           (None, 13, 13, 64)        18496     \n",
            "                                                                 \n",
            " max_pooling2d_3 (MaxPoolin  (None, 6, 6, 64)          0         \n",
            " g2D)                                                            \n",
            "                                                                 \n",
            " conv2d_4 (Conv2D)           (None, 4, 4, 64)          36928     \n",
            "                                                                 \n",
            "=================================================================\n",
            "Total params: 56320 (220.00 KB)\n",
            "Trainable params: 56320 (220.00 KB)\n",
            "Non-trainable params: 0 (0.00 Byte)\n",
            "_________________________________________________________________\n"
          ]
        }
      ]
    },
    {
      "cell_type": "markdown",
      "source": [
        "#### Langkah 4.3. - Tambahkan Layer Fully Connected"
      ],
      "metadata": {
        "id": "Ab1dkl8yQR8F"
      }
    },
    {
      "cell_type": "code",
      "source": [
        "model.add(layers.Flatten())\n",
        "model.add(layers.Dense(64, activation='relu'))\n",
        "model.add(layers.Dense(10))"
      ],
      "metadata": {
        "id": "Qp08YofYQUdX"
      },
      "execution_count": null,
      "outputs": []
    },
    {
      "cell_type": "markdown",
      "source": [
        "#### Langkah 4.4. - Cek Arsitektur Model CNN"
      ],
      "metadata": {
        "id": "4I9WynjiQWON"
      }
    },
    {
      "cell_type": "code",
      "source": [
        "model.summary()"
      ],
      "metadata": {
        "colab": {
          "base_uri": "https://localhost:8080/"
        },
        "id": "1HYkZQs_QYMv",
        "outputId": "dd1ddbe2-d357-40ad-905e-3a6f62169a09"
      },
      "execution_count": null,
      "outputs": [
        {
          "output_type": "stream",
          "name": "stdout",
          "text": [
            "Model: \"sequential_1\"\n",
            "_________________________________________________________________\n",
            " Layer (type)                Output Shape              Param #   \n",
            "=================================================================\n",
            " conv2d_2 (Conv2D)           (None, 30, 30, 32)        896       \n",
            "                                                                 \n",
            " max_pooling2d_2 (MaxPoolin  (None, 15, 15, 32)        0         \n",
            " g2D)                                                            \n",
            "                                                                 \n",
            " conv2d_3 (Conv2D)           (None, 13, 13, 64)        18496     \n",
            "                                                                 \n",
            " max_pooling2d_3 (MaxPoolin  (None, 6, 6, 64)          0         \n",
            " g2D)                                                            \n",
            "                                                                 \n",
            " conv2d_4 (Conv2D)           (None, 4, 4, 64)          36928     \n",
            "                                                                 \n",
            " flatten_1 (Flatten)         (None, 1024)              0         \n",
            "                                                                 \n",
            " dense_2 (Dense)             (None, 64)                65600     \n",
            "                                                                 \n",
            " dense_3 (Dense)             (None, 10)                650       \n",
            "                                                                 \n",
            "=================================================================\n",
            "Total params: 122570 (478.79 KB)\n",
            "Trainable params: 122570 (478.79 KB)\n",
            "Non-trainable params: 0 (0.00 Byte)\n",
            "_________________________________________________________________\n"
          ]
        }
      ]
    },
    {
      "cell_type": "markdown",
      "source": [
        "#### Langkah 4.5. - Compile Model CNN"
      ],
      "metadata": {
        "id": "vwFKqNDkQZnz"
      }
    },
    {
      "cell_type": "code",
      "source": [
        "model.compile(optimizer='adam',\n",
        " loss=tf.keras.losses.SparseCategoricalCrossentropy(from_logits=True),\n",
        " metrics=['accuracy'])"
      ],
      "metadata": {
        "id": "sY7h5C87QbOM"
      },
      "execution_count": null,
      "outputs": []
    },
    {
      "cell_type": "markdown",
      "source": [
        "### **Langkah 5 - Fit Model**"
      ],
      "metadata": {
        "id": "aI3ndOUJQjT5"
      }
    },
    {
      "cell_type": "code",
      "source": [
        "history = model.fit(train_images, train_labels, epochs=10, validation_data=(test_images, test_labels))"
      ],
      "metadata": {
        "colab": {
          "base_uri": "https://localhost:8080/"
        },
        "id": "8LLzA9r2Ql6S",
        "outputId": "60395084-8d89-4011-c71b-c554e5161cae"
      },
      "execution_count": null,
      "outputs": [
        {
          "output_type": "stream",
          "name": "stdout",
          "text": [
            "Epoch 1/10\n",
            "1563/1563 [==============================] - 13s 7ms/step - loss: 1.5128 - accuracy: 0.4498 - val_loss: 1.2308 - val_accuracy: 0.5554\n",
            "Epoch 2/10\n",
            "1563/1563 [==============================] - 9s 6ms/step - loss: 1.1586 - accuracy: 0.5897 - val_loss: 1.0854 - val_accuracy: 0.6174\n",
            "Epoch 3/10\n",
            "1563/1563 [==============================] - 10s 6ms/step - loss: 1.0142 - accuracy: 0.6430 - val_loss: 0.9746 - val_accuracy: 0.6585\n",
            "Epoch 4/10\n",
            "1563/1563 [==============================] - 8s 5ms/step - loss: 0.9198 - accuracy: 0.6781 - val_loss: 1.0506 - val_accuracy: 0.6338\n",
            "Epoch 5/10\n",
            "1563/1563 [==============================] - 9s 6ms/step - loss: 0.8486 - accuracy: 0.7041 - val_loss: 0.9154 - val_accuracy: 0.6765\n",
            "Epoch 6/10\n",
            "1563/1563 [==============================] - 9s 6ms/step - loss: 0.7914 - accuracy: 0.7212 - val_loss: 0.9224 - val_accuracy: 0.6845\n",
            "Epoch 7/10\n",
            "1563/1563 [==============================] - 9s 5ms/step - loss: 0.7391 - accuracy: 0.7408 - val_loss: 0.8724 - val_accuracy: 0.7002\n",
            "Epoch 8/10\n",
            "1563/1563 [==============================] - 9s 6ms/step - loss: 0.6962 - accuracy: 0.7559 - val_loss: 0.8925 - val_accuracy: 0.7016\n",
            "Epoch 9/10\n",
            "1563/1563 [==============================] - 8s 5ms/step - loss: 0.6543 - accuracy: 0.7727 - val_loss: 0.8817 - val_accuracy: 0.6998\n",
            "Epoch 10/10\n",
            "1563/1563 [==============================] - 11s 7ms/step - loss: 0.6141 - accuracy: 0.7853 - val_loss: 0.8915 - val_accuracy: 0.7054\n"
          ]
        }
      ]
    },
    {
      "cell_type": "markdown",
      "source": [
        "### **Langkah 6 - Evaluasi Model**"
      ],
      "metadata": {
        "id": "AM1Jl1GvQpjx"
      }
    },
    {
      "cell_type": "code",
      "source": [
        "plt.plot(history.history['accuracy'], label='accuracy')\n",
        "plt.plot(history.history['val_accuracy'], label = 'val_accuracy')\n",
        "plt.xlabel('Epoch')\n",
        "plt.ylabel('Accuracy')\n",
        "plt.ylim([0.5, 1])\n",
        "plt.legend(loc='lower right')\n",
        "\n",
        "test_loss, test_acc = model.evaluate(test_images, test_labels, verbose=2)"
      ],
      "metadata": {
        "colab": {
          "base_uri": "https://localhost:8080/",
          "height": 472
        },
        "id": "VczMbfWUQsCt",
        "outputId": "970e8af3-c1fd-441d-efd0-640f7f52c589"
      },
      "execution_count": null,
      "outputs": [
        {
          "output_type": "stream",
          "name": "stdout",
          "text": [
            "313/313 - 1s - loss: 0.8915 - accuracy: 0.7054 - 693ms/epoch - 2ms/step\n"
          ]
        },
        {
          "output_type": "display_data",
          "data": {
            "text/plain": [
              "<Figure size 640x480 with 1 Axes>"
            ],
            "image/png": "[encoded data removed]"
          },
          "metadata": {}
        }
      ]
    },
    {
      "cell_type": "markdown",
      "source": [
        "### **Langkah 7 - Cetak Hasil Akurasi**"
      ],
      "metadata": {
        "id": "yUep0yLJQuxl"
      }
    },
    {
      "cell_type": "code",
      "source": [
        "print(test_acc)"
      ],
      "metadata": {
        "colab": {
          "base_uri": "https://localhost:8080/"
        },
        "id": "KL7CCb7bQw4m",
        "outputId": "c7f92267-bc0b-447b-9745-0f4cfb3c3cdd"
      },
      "execution_count": null,
      "outputs": [
        {
          "output_type": "stream",
          "name": "stdout",
          "text": [
            "0.7053999900817871\n"
          ]
        }
      ]
    },
    {
      "cell_type": "markdown",
      "source": [
        "****\n",
        "## **Tugas Praktikum**\n",
        "\n",
        "\n",
        "**Modifikasi model CNN pada praktikum 2 sehingga didapatkan akurasi testing lebih dari 80%**\n",
        "\n",
        "1. Import Library\n",
        "\n"
      ],
      "metadata": {
        "id": "R7edr0bXQzkC"
      }
    },
    {
      "cell_type": "code",
      "source": [
        "import tensorflow as tf\n",
        "from tensorflow.keras import datasets, layers, models\n",
        "import matplotlib.pyplot as plt"
      ],
      "metadata": {
        "id": "gCSo2DPPcN5H"
      },
      "execution_count": 1,
      "outputs": []
    },
    {
      "cell_type": "markdown",
      "source": [
        "2. Load CIFAR-10 dataset"
      ],
      "metadata": {
        "id": "6JiyDhctcPHw"
      }
    },
    {
      "cell_type": "code",
      "source": [
        "(train_images, train_labels), (test_images, test_labels) = datasets.cifar10.load_data()"
      ],
      "metadata": {
        "colab": {
          "base_uri": "https://localhost:8080/"
        },
        "id": "vLOr78_J-Ohc",
        "outputId": "880b1951-3a24-4e12-d55e-11801426651c"
      },
      "execution_count": 2,
      "outputs": [
        {
          "output_type": "stream",
          "name": "stdout",
          "text": [
            "Downloading data from https://www.cs.toronto.edu/~kriz/cifar-10-python.tar.gz\n",
            "170498071/170498071 [==============================] - 6s 0us/step\n"
          ]
        }
      ]
    },
    {
      "cell_type": "markdown",
      "source": [
        "3. Normalisasikan nilai piksel menjadi antara 0 dan 1"
      ],
      "metadata": {
        "id": "g96LqqLl-PT9"
      }
    },
    {
      "cell_type": "code",
      "source": [
        "train_images, test_images = train_images / 255.0, test_images / 255.0"
      ],
      "metadata": {
        "id": "WR0Aui8V-Sib"
      },
      "execution_count": 3,
      "outputs": []
    },
    {
      "cell_type": "markdown",
      "source": [
        "4. Buat model CNN"
      ],
      "metadata": {
        "id": "qtWXxymh-TL6"
      }
    },
    {
      "cell_type": "code",
      "source": [
        "model = models.Sequential()\n",
        "model.add(layers.Conv2D(64,(4,4),input_shape=(32,32,3),activation='relu',padding='same'))\n",
        "model.add(layers.BatchNormalization())\n",
        "model.add(layers.Conv2D(64,(4,4),input_shape=(32,32,3),activation='relu',padding='same'))\n",
        "model.add(layers.BatchNormalization())\n",
        "model.add(layers.MaxPooling2D(pool_size=(2,2)))\n",
        "model.add(layers.Dropout(0.2))\n",
        "model.add(layers.Conv2D(128,(4,4),input_shape=(32,32,3),activation='relu',padding='same'))\n",
        "model.add(layers.BatchNormalization())\n",
        "model.add(layers.Conv2D(128,(4,4),input_shape=(32,32,3),activation='relu',padding='same'))\n",
        "model.add(layers.BatchNormalization())\n",
        "model.add(layers.MaxPooling2D(pool_size=(2,2)))\n",
        "model.add(layers.Dropout(0.25))\n",
        "model.add(layers.Conv2D(128,(4,4),input_shape=(32,32,3),activation='relu',padding='same'))\n",
        "model.add(layers.BatchNormalization())\n",
        "model.add(layers.Conv2D(128,(4,4),input_shape=(32,32,3),activation='relu',padding='same'))\n",
        "model.add(layers.BatchNormalization())\n",
        "model.add(layers.MaxPooling2D(pool_size=(2,2)))\n",
        "model.add(layers.Dropout(0.35))\n",
        "model.add(layers.Flatten())\n",
        "model.add(layers.Dense(256, activation='relu'))\n",
        "model.add(layers.BatchNormalization())\n",
        "model.add(layers.Dropout(0.5))\n",
        "model.add(layers.Dense(10, activation='softmax'))\n",
        "model.summary()"
      ],
      "metadata": {
        "colab": {
          "base_uri": "https://localhost:8080/"
        },
        "id": "QRrGb6gG-XDm",
        "outputId": "ed94f1c5-ca45-4e09-d885-7852e161c92b"
      },
      "execution_count": 4,
      "outputs": [
        {
          "output_type": "stream",
          "name": "stdout",
          "text": [
            "Model: \"sequential\"\n",
            "_________________________________________________________________\n",
            " Layer (type)                Output Shape              Param #   \n",
            "=================================================================\n",
            " conv2d (Conv2D)             (None, 32, 32, 64)        3136      \n",
            "                                                                 \n",
            " batch_normalization (Batch  (None, 32, 32, 64)        256       \n",
            " Normalization)                                                  \n",
            "                                                                 \n",
            " conv2d_1 (Conv2D)           (None, 32, 32, 64)        65600     \n",
            "                                                                 \n",
            " batch_normalization_1 (Bat  (None, 32, 32, 64)        256       \n",
            " chNormalization)                                                \n",
            "                                                                 \n",
            " max_pooling2d (MaxPooling2  (None, 16, 16, 64)        0         \n",
            " D)                                                              \n",
            "                                                                 \n",
            " dropout (Dropout)           (None, 16, 16, 64)        0         \n",
            "                                                                 \n",
            " conv2d_2 (Conv2D)           (None, 16, 16, 128)       131200    \n",
            "                                                                 \n",
            " batch_normalization_2 (Bat  (None, 16, 16, 128)       512       \n",
            " chNormalization)                                                \n",
            "                                                                 \n",
            " conv2d_3 (Conv2D)           (None, 16, 16, 128)       262272    \n",
            "                                                                 \n",
            " batch_normalization_3 (Bat  (None, 16, 16, 128)       512       \n",
            " chNormalization)                                                \n",
            "                                                                 \n",
            " max_pooling2d_1 (MaxPoolin  (None, 8, 8, 128)         0         \n",
            " g2D)                                                            \n",
            "                                                                 \n",
            " dropout_1 (Dropout)         (None, 8, 8, 128)         0         \n",
            "                                                                 \n",
            " conv2d_4 (Conv2D)           (None, 8, 8, 128)         262272    \n",
            "                                                                 \n",
            " batch_normalization_4 (Bat  (None, 8, 8, 128)         512       \n",
            " chNormalization)                                                \n",
            "                                                                 \n",
            " conv2d_5 (Conv2D)           (None, 8, 8, 128)         262272    \n",
            "                                                                 \n",
            " batch_normalization_5 (Bat  (None, 8, 8, 128)         512       \n",
            " chNormalization)                                                \n",
            "                                                                 \n",
            " max_pooling2d_2 (MaxPoolin  (None, 4, 4, 128)         0         \n",
            " g2D)                                                            \n",
            "                                                                 \n",
            " dropout_2 (Dropout)         (None, 4, 4, 128)         0         \n",
            "                                                                 \n",
            " flatten (Flatten)           (None, 2048)              0         \n",
            "                                                                 \n",
            " dense (Dense)               (None, 256)               524544    \n",
            "                                                                 \n",
            " batch_normalization_6 (Bat  (None, 256)               1024      \n",
            " chNormalization)                                                \n",
            "                                                                 \n",
            " dropout_3 (Dropout)         (None, 256)               0         \n",
            "                                                                 \n",
            " dense_1 (Dense)             (None, 10)                2570      \n",
            "                                                                 \n",
            "=================================================================\n",
            "Total params: 1517450 (5.79 MB)\n",
            "Trainable params: 1515658 (5.78 MB)\n",
            "Non-trainable params: 1792 (7.00 KB)\n",
            "_________________________________________________________________\n"
          ]
        }
      ]
    },
    {
      "cell_type": "markdown",
      "source": [
        " 7. Lakukan compile pada model"
      ],
      "metadata": {
        "id": "HnLID66S-Zv8"
      }
    },
    {
      "cell_type": "code",
      "source": [
        "model.compile(optimizer='adam',\n",
        "              loss='sparse_categorical_crossentropy',\n",
        "              metrics=['accuracy'])"
      ],
      "metadata": {
        "id": "uKlDtSot-fbs"
      },
      "execution_count": 5,
      "outputs": []
    },
    {
      "cell_type": "markdown",
      "source": [
        "8. Melatih model"
      ],
      "metadata": {
        "id": "f9ayYd02-g3d"
      }
    },
    {
      "cell_type": "code",
      "source": [
        "history = model.fit(train_images, train_labels, epochs=20, validation_data=(test_images, test_labels))"
      ],
      "metadata": {
        "colab": {
          "base_uri": "https://localhost:8080/"
        },
        "id": "1lLFPIsI-myi",
        "outputId": "037342eb-4f52-4cee-8dc4-1f767e83b054"
      },
      "execution_count": 6,
      "outputs": [
        {
          "output_type": "stream",
          "name": "stdout",
          "text": [
            "Epoch 1/20\n",
            "1563/1563 [==============================] - 49s 21ms/step - loss: 1.5779 - accuracy: 0.4608 - val_loss: 1.5470 - val_accuracy: 0.4515\n",
            "Epoch 2/20\n",
            "1563/1563 [==============================] - 33s 21ms/step - loss: 0.9601 - accuracy: 0.6631 - val_loss: 0.8354 - val_accuracy: 0.7121\n",
            "Epoch 3/20\n",
            "1563/1563 [==============================] - 32s 20ms/step - loss: 0.7602 - accuracy: 0.7379 - val_loss: 0.7252 - val_accuracy: 0.7448\n",
            "Epoch 4/20\n",
            "1563/1563 [==============================] - 33s 21ms/step - loss: 0.6491 - accuracy: 0.7774 - val_loss: 0.7396 - val_accuracy: 0.7494\n",
            "Epoch 5/20\n",
            "1563/1563 [==============================] - 33s 21ms/step - loss: 0.5584 - accuracy: 0.8128 - val_loss: 0.6088 - val_accuracy: 0.7911\n",
            "Epoch 6/20\n",
            "1563/1563 [==============================] - 33s 21ms/step - loss: 0.4828 - accuracy: 0.8365 - val_loss: 0.5828 - val_accuracy: 0.8061\n",
            "Epoch 7/20\n",
            "1563/1563 [==============================] - 33s 21ms/step - loss: 0.4250 - accuracy: 0.8568 - val_loss: 0.4859 - val_accuracy: 0.8351\n",
            "Epoch 8/20\n",
            "1563/1563 [==============================] - 34s 22ms/step - loss: 0.3783 - accuracy: 0.8732 - val_loss: 0.5042 - val_accuracy: 0.8326\n",
            "Epoch 9/20\n",
            "1563/1563 [==============================] - 34s 22ms/step - loss: 0.3428 - accuracy: 0.8841 - val_loss: 0.4545 - val_accuracy: 0.8508\n",
            "Epoch 10/20\n",
            "1563/1563 [==============================] - 33s 21ms/step - loss: 0.2977 - accuracy: 0.8985 - val_loss: 0.5110 - val_accuracy: 0.8343\n",
            "Epoch 11/20\n",
            "1563/1563 [==============================] - 33s 21ms/step - loss: 0.2750 - accuracy: 0.9056 - val_loss: 0.4800 - val_accuracy: 0.8536\n",
            "Epoch 12/20\n",
            "1563/1563 [==============================] - 33s 21ms/step - loss: 0.2413 - accuracy: 0.9173 - val_loss: 0.4695 - val_accuracy: 0.8511\n",
            "Epoch 13/20\n",
            "1563/1563 [==============================] - 33s 21ms/step - loss: 0.2258 - accuracy: 0.9225 - val_loss: 0.4954 - val_accuracy: 0.8515\n",
            "Epoch 14/20\n",
            "1563/1563 [==============================] - 33s 21ms/step - loss: 0.2113 - accuracy: 0.9274 - val_loss: 0.4697 - val_accuracy: 0.8565\n",
            "Epoch 15/20\n",
            "1563/1563 [==============================] - 33s 21ms/step - loss: 0.1934 - accuracy: 0.9327 - val_loss: 0.5065 - val_accuracy: 0.8574\n",
            "Epoch 16/20\n",
            "1563/1563 [==============================] - 34s 22ms/step - loss: 0.1765 - accuracy: 0.9398 - val_loss: 0.4937 - val_accuracy: 0.8578\n",
            "Epoch 17/20\n",
            "1563/1563 [==============================] - 34s 22ms/step - loss: 0.1687 - accuracy: 0.9413 - val_loss: 0.4892 - val_accuracy: 0.8596\n",
            "Epoch 18/20\n",
            "1563/1563 [==============================] - 34s 22ms/step - loss: 0.1598 - accuracy: 0.9443 - val_loss: 0.5159 - val_accuracy: 0.8605\n",
            "Epoch 19/20\n",
            "1563/1563 [==============================] - 34s 22ms/step - loss: 0.1505 - accuracy: 0.9480 - val_loss: 0.4984 - val_accuracy: 0.8637\n",
            "Epoch 20/20\n",
            "1563/1563 [==============================] - 35s 22ms/step - loss: 0.1446 - accuracy: 0.9494 - val_loss: 0.5394 - val_accuracy: 0.8537\n"
          ]
        }
      ]
    },
    {
      "cell_type": "markdown",
      "source": [
        "9. Evaluasi hasil model"
      ],
      "metadata": {
        "id": "92fmV0na-pBj"
      }
    },
    {
      "cell_type": "code",
      "source": [
        "test_loss, test_acc = model.evaluate(test_images, test_labels, verbose=2)\n",
        "print(f\"Test accuracy: {test_acc}\")"
      ],
      "metadata": {
        "colab": {
          "base_uri": "https://localhost:8080/"
        },
        "id": "Zd41_x4B-rML",
        "outputId": "e9b77264-44a0-49aa-ac52-3729c111e8ae"
      },
      "execution_count": 7,
      "outputs": [
        {
          "output_type": "stream",
          "name": "stdout",
          "text": [
            "313/313 - 2s - loss: 0.5394 - accuracy: 0.8537 - 2s/epoch - 6ms/step\n",
            "Test accuracy: 0.8536999821662903\n"
          ]
        }
      ]
    },
    {
      "cell_type": "markdown",
      "source": [
        "10. Plot visualisasi"
      ],
      "metadata": {
        "id": "oCt8hL3D-sao"
      }
    },
    {
      "cell_type": "code",
      "source": [
        "plt.plot(history.history['accuracy'], label='accuracy')\n",
        "plt.plot(history.history['val_accuracy'], label='val_accuracy')\n",
        "plt.xlabel('Epoch')\n",
        "plt.ylabel('Accuracy')\n",
        "plt.ylim([0, 1])\n",
        "plt.legend(loc='lower right')\n",
        "plt.show()"
      ],
      "metadata": {
        "colab": {
          "base_uri": "https://localhost:8080/",
          "height": 455
        },
        "id": "wqUhWaJZ-uCh",
        "outputId": "e18aa7bd-8e71-4221-f330-bd4c9eefa74e"
      },
      "execution_count": 8,
      "outputs": [
        {
          "output_type": "display_data",
          "data": {
            "text/plain": [
              "<Figure size 640x480 with 1 Axes>"
            ],
            "image/png": "[encoded data removed]"
          },
          "metadata": {}
        }
      ]
    },
    {
      "cell_type": "markdown",
      "source": [
        "**Model CNN untuk klasifikasi dataset MNIST.**\n",
        "\n",
        "1. Import Library"
      ],
      "metadata": {
        "id": "nIfPNYVv-wpj"
      }
    },
    {
      "cell_type": "code",
      "source": [
        "import tensorflow as tf\n",
        "from tensorflow.keras import datasets, layers, models\n",
        "import matplotlib.pyplot as plt"
      ],
      "metadata": {
        "id": "rxwEM1ia-3dt"
      },
      "execution_count": 9,
      "outputs": []
    },
    {
      "cell_type": "markdown",
      "source": [
        "2. Load Mnist dataset"
      ],
      "metadata": {
        "id": "aqIuRqZ_-2pV"
      }
    },
    {
      "cell_type": "code",
      "source": [
        "(train_images, train_labels), (test_images, test_labels) = datasets.mnist.load_data()"
      ],
      "metadata": {
        "colab": {
          "base_uri": "https://localhost:8080/"
        },
        "id": "H-ZC8nMR-6nz",
        "outputId": "308d9ca8-807e-4083-af6c-c32657d4168b"
      },
      "execution_count": 10,
      "outputs": [
        {
          "output_type": "stream",
          "name": "stdout",
          "text": [
            "Downloading data from https://storage.googleapis.com/tensorflow/tf-keras-datasets/mnist.npz\n",
            "11490434/11490434 [==============================] - 1s 0us/step\n"
          ]
        }
      ]
    },
    {
      "cell_type": "markdown",
      "source": [
        "3. Normalisasikan nilai piksel menjadi antara 0 dan 1"
      ],
      "metadata": {
        "id": "e7Z1lIfz-8E4"
      }
    },
    {
      "cell_type": "code",
      "source": [
        "train_images, test_images = train_images / 255.0, test_images / 255.0"
      ],
      "metadata": {
        "id": "0ch-ZFUh--VO"
      },
      "execution_count": 11,
      "outputs": []
    },
    {
      "cell_type": "markdown",
      "source": [
        "4. Buat model CNN"
      ],
      "metadata": {
        "id": "2EnWYwp--_fF"
      }
    },
    {
      "cell_type": "code",
      "source": [
        "model = models.Sequential()\n",
        "model.add(layers.Conv2D(32, (3, 3), activation='relu', input_shape=(28, 28, 1)))\n",
        "model.add(layers.MaxPooling2D((2, 2)))\n",
        "model.add(layers.Conv2D(64, (3, 3), activation='relu'))\n",
        "model.add(layers.MaxPooling2D((2, 2)))\n",
        "model.add(layers.Conv2D(64, (3, 3), activation='relu'))\n",
        "model.add(layers.Flatten())\n",
        "model.add(layers.Dense(64, activation='relu'))\n",
        "model.add(layers.Dense(10, activation='softmax'))"
      ],
      "metadata": {
        "id": "N1ZPySvB_BcR"
      },
      "execution_count": 12,
      "outputs": []
    },
    {
      "cell_type": "markdown",
      "source": [
        "5. Lakukan compile pada model"
      ],
      "metadata": {
        "id": "seDMMgm0_CMd"
      }
    },
    {
      "cell_type": "code",
      "source": [
        "model.compile(optimizer='adam',\n",
        "              loss='sparse_categorical_crossentropy',\n",
        "              metrics=['accuracy'])"
      ],
      "metadata": {
        "id": "AMW8y5yA_FvV"
      },
      "execution_count": 13,
      "outputs": []
    },
    {
      "cell_type": "markdown",
      "source": [
        "6. Melatih model"
      ],
      "metadata": {
        "id": "N0pPayIz_GP8"
      }
    },
    {
      "cell_type": "code",
      "source": [
        "history = model.fit(train_images, train_labels, epochs=10, validation_data=(test_images, test_labels))"
      ],
      "metadata": {
        "colab": {
          "base_uri": "https://localhost:8080/"
        },
        "id": "lxRHE3s4_LJt",
        "outputId": "da491f66-5216-40cc-9470-c6fee193cb9a"
      },
      "execution_count": 14,
      "outputs": [
        {
          "output_type": "stream",
          "name": "stdout",
          "text": [
            "Epoch 1/10\n",
            "1875/1875 [==============================] - 11s 5ms/step - loss: 0.1567 - accuracy: 0.9507 - val_loss: 0.0435 - val_accuracy: 0.9870\n",
            "Epoch 2/10\n",
            "1875/1875 [==============================] - 8s 4ms/step - loss: 0.0466 - accuracy: 0.9850 - val_loss: 0.0416 - val_accuracy: 0.9864\n",
            "Epoch 3/10\n",
            "1875/1875 [==============================] - 11s 6ms/step - loss: 0.0346 - accuracy: 0.9890 - val_loss: 0.0390 - val_accuracy: 0.9883\n",
            "Epoch 4/10\n",
            "1875/1875 [==============================] - 9s 5ms/step - loss: 0.0252 - accuracy: 0.9920 - val_loss: 0.0359 - val_accuracy: 0.9884\n",
            "Epoch 5/10\n",
            "1875/1875 [==============================] - 9s 5ms/step - loss: 0.0212 - accuracy: 0.9935 - val_loss: 0.0358 - val_accuracy: 0.9889\n",
            "Epoch 6/10\n",
            "1875/1875 [==============================] - 10s 5ms/step - loss: 0.0171 - accuracy: 0.9942 - val_loss: 0.0303 - val_accuracy: 0.9907\n",
            "Epoch 7/10\n",
            "1875/1875 [==============================] - 9s 5ms/step - loss: 0.0138 - accuracy: 0.9957 - val_loss: 0.0278 - val_accuracy: 0.9916\n",
            "Epoch 8/10\n",
            "1875/1875 [==============================] - 8s 4ms/step - loss: 0.0119 - accuracy: 0.9961 - val_loss: 0.0332 - val_accuracy: 0.9903\n",
            "Epoch 9/10\n",
            "1875/1875 [==============================] - 10s 5ms/step - loss: 0.0096 - accuracy: 0.9967 - val_loss: 0.0295 - val_accuracy: 0.9921\n",
            "Epoch 10/10\n",
            "1875/1875 [==============================] - 9s 5ms/step - loss: 0.0081 - accuracy: 0.9974 - val_loss: 0.0378 - val_accuracy: 0.9919\n"
          ]
        }
      ]
    },
    {
      "cell_type": "markdown",
      "source": [
        "7. Evaluasi hasil model"
      ],
      "metadata": {
        "id": "wL1riv19_Mzi"
      }
    },
    {
      "cell_type": "code",
      "source": [
        "test_loss, test_acc = model.evaluate(test_images,  test_labels, verbose=2)\n",
        "print(f\"Test accuracy: {test_acc}\")"
      ],
      "metadata": {
        "colab": {
          "base_uri": "https://localhost:8080/"
        },
        "id": "-dR0RzaE_OnM",
        "outputId": "01d51bdf-5484-4700-cd61-12d1d8432173"
      },
      "execution_count": 15,
      "outputs": [
        {
          "output_type": "stream",
          "name": "stdout",
          "text": [
            "313/313 - 1s - loss: 0.0378 - accuracy: 0.9919 - 654ms/epoch - 2ms/step\n",
            "Test accuracy: 0.9919000267982483\n"
          ]
        }
      ]
    },
    {
      "cell_type": "markdown",
      "source": [
        "8. Plot visualisasi"
      ],
      "metadata": {
        "id": "g4B088gD_Q6Q"
      }
    },
    {
      "cell_type": "code",
      "source": [
        "plt.plot(history.history['accuracy'], label='accuracy')\n",
        "plt.plot(history.history['val_accuracy'], label='val_accuracy')\n",
        "plt.xlabel('Epoch')\n",
        "plt.ylabel('Accuracy')\n",
        "plt.ylim([0, 1])\n",
        "plt.legend(loc='lower right')\n",
        "plt.show()"
      ],
      "metadata": {
        "colab": {
          "base_uri": "https://localhost:8080/",
          "height": 455
        },
        "id": "Xr2DO8ds_S9u",
        "outputId": "051a86cd-8c86-46af-8989-038cc6440020"
      },
      "execution_count": 16,
      "outputs": [
        {
          "output_type": "display_data",
          "data": {
            "text/plain": [
              "<Figure size 640x480 with 1 Axes>"
            ],
            "image/png": "[encoded data removed]"
          },
          "metadata": {}
        }
      ]
    }
  ]
}