{
  "nbformat": 4,
  "nbformat_minor": 0,
  "metadata": {
    "colab": {
      "provenance": [],
      "gpuType": "T4",
      "authorship_tag": "ABX9TyPFWrCu7SBXEdBMc1tm2IFI",
      "include_colab_link": true
    },
    "kernelspec": {
      "name": "python3",
      "display_name": "Python 3"
    },
    "language_info": {
      "name": "python"
    },
    "accelerator": "GPU"
  },
  "cells": [
    {
      "cell_type": "markdown",
      "metadata": {
        "id": "view-in-github",
        "colab_type": "text"
      },
      "source": [
        "<a href=\"https://colab.research.google.com/github/yasminenavishaa/Machine-Learning/blob/main/Pertemuan10.ipynb\" target=\"_parent\"><img src=\"https://colab.research.google.com/assets/colab-badge.svg\" alt=\"Open In Colab\"/></a>"
      ]
    },
    {
      "cell_type": "markdown",
      "source": [
        "# **Job Sheet 10: Recurrent Neural Network (RNN) **\n",
        "Nama : Yasmine Navisha Andhani\n",
        "\n",
        "Kelas : D4-TI / 3G\n",
        "\n",
        "NIM : 2141720047\n",
        "\n",
        "Github : https://github.com/yasminenavishaa/Machine-Learning\n",
        "\n",
        "## **Praktikum 1: RNN untuk Analisis Sentimen**\n",
        "**Setup**\n",
        "\n",
        "Impor matplotlib dan buat fungsi pembantu untuk memplot grafik:"
      ],
      "metadata": {
        "id": "rjZcAQfGXRWn"
      }
    },
    {
      "cell_type": "code",
      "execution_count": 2,
      "metadata": {
        "id": "kJWIWpJvUSl5"
      },
      "outputs": [],
      "source": [
        "import numpy as np\n",
        "import tensorflow_datasets as tfds\n",
        "import tensorflow as tf\n",
        "\n",
        "tfds.disable_progress_bar()"
      ]
    },
    {
      "cell_type": "code",
      "source": [
        "import matplotlib.pyplot as plt\n",
        "\n",
        "def plot_graphs(history, metric):\n",
        " plt.plot(history.history['val_'+metric], '')\n",
        " plt.plot(history.history[metric])\n",
        " plt.xlabel(\"Epochs\")\n",
        " plt.ylabel(metric)\n",
        " plt.legend([metric, 'val_'+metric])"
      ],
      "metadata": {
        "id": "rUrfdr-EyQCg"
      },
      "execution_count": 3,
      "outputs": []
    },
    {
      "cell_type": "markdown",
      "source": [
        "**Setup input pipeline**\n",
        "\n",
        "Dataset ulasan film IMDB adalah kumpulan data klasifikasi biner—semua ulasan memiliki sentimen positif atau negatif.\n",
        "\n",
        "Download dataset menggunakan TFDS. Lihat loading text tutorial jika ingin me load data secara manual"
      ],
      "metadata": {
        "id": "IVsPor0yyS9Q"
      }
    },
    {
      "cell_type": "code",
      "source": [
        "dataset, info = tfds.load('imdb_reviews', with_info=True,\n",
        "                          as_supervised=True)\n",
        "train_dataset, test_dataset = dataset['train'], dataset['test']\n",
        "\n",
        "train_dataset.element_spec"
      ],
      "metadata": {
        "colab": {
          "base_uri": "https://localhost:8080/"
        },
        "id": "-fgEIeESyaJO",
        "outputId": "32085854-ec3f-498e-f754-496450beb0bb"
      },
      "execution_count": 4,
      "outputs": [
        {
          "output_type": "stream",
          "name": "stdout",
          "text": [
            "Downloading and preparing dataset 80.23 MiB (download: 80.23 MiB, generated: Unknown size, total: 80.23 MiB) to /root/tensorflow_datasets/imdb_reviews/plain_text/1.0.0...\n",
            "Dataset imdb_reviews downloaded and prepared to /root/tensorflow_datasets/imdb_reviews/plain_text/1.0.0. Subsequent calls will reuse this data.\n"
          ]
        },
        {
          "output_type": "execute_result",
          "data": {
            "text/plain": [
              "(TensorSpec(shape=(), dtype=tf.string, name=None),\n",
              " TensorSpec(shape=(), dtype=tf.int64, name=None))"
            ]
          },
          "metadata": {},
          "execution_count": 4
        }
      ]
    },
    {
      "cell_type": "markdown",
      "source": [
        "Awalnya ini mengembalikan dataset (teks, pasangan label):"
      ],
      "metadata": {
        "id": "apZCuG9_yj_0"
      }
    },
    {
      "cell_type": "code",
      "source": [
        "for example, label in train_dataset.take(1):\n",
        "  print('text: ', example.numpy())\n",
        "  print('label: ', label.numpy())"
      ],
      "metadata": {
        "colab": {
          "base_uri": "https://localhost:8080/"
        },
        "id": "DR5KEih-ylGI",
        "outputId": "a13b4f6d-5447-479b-e5b6-2a120dcbb13f"
      },
      "execution_count": 5,
      "outputs": [
        {
          "output_type": "stream",
          "name": "stdout",
          "text": [
            "text:  b\"This was an absolutely terrible movie. Don't be lured in by Christopher Walken or Michael Ironside. Both are great actors, but this must simply be their worst role in history. Even their great acting could not redeem this movie's ridiculous storyline. This movie is an early nineties US propaganda piece. The most pathetic scenes were those when the Columbian rebels were making their cases for revolutions. Maria Conchita Alonso appeared phony, and her pseudo-love affair with Walken was nothing but a pathetic emotional plug in a movie that was devoid of any real meaning. I am disappointed that there are movies like this, ruining actor's like Christopher Walken's good name. I could barely sit through it.\"\n",
            "label:  0\n"
          ]
        }
      ]
    },
    {
      "cell_type": "markdown",
      "source": [
        "Berikutnya acak data untuk pelatihan dan membuat kumpulan pasangan (teks, label) ini:"
      ],
      "metadata": {
        "id": "NS4Te7Vzymyv"
      }
    },
    {
      "cell_type": "code",
      "source": [
        "BUFFER_SIZE = 10000\n",
        "BATCH_SIZE = 64\n",
        "\n",
        "train_dataset = train_dataset.shuffle(BUFFER_SIZE).batch(BATCH_SIZE).prefetch(tf.data.AUTOTUNE)\n",
        "test_dataset = test_dataset.batch(BATCH_SIZE).prefetch(tf.data.AUTOTUNE)\n",
        "\n",
        "for example, label in train_dataset.take(1):\n",
        "  print('texts: ', example.numpy()[:3])\n",
        "  print()\n",
        "  print('labels: ', label.numpy()[:3])"
      ],
      "metadata": {
        "colab": {
          "base_uri": "https://localhost:8080/"
        },
        "id": "sEZ_cp5byntw",
        "outputId": "37f08750-8dba-4d53-9048-93fedcc3cf61"
      },
      "execution_count": 6,
      "outputs": [
        {
          "output_type": "stream",
          "name": "stdout",
          "text": [
            "texts:  [b'Up until the last few minutes of the movie, I would have given the movie a score of 7 or 8 stars. However, the ending is so terrible and \"Hollywoodized\" that it completely undermines the first 80% of the movie.<br /><br />The plot revolves around a submarine and the possibility that they received an order to fire their nuclear missiles. The Captain, Gene Hackman, is all for launching, while his first officer, Denzel Washington, is in favor of confirming the launch orders first. The problem is, to launch BOTH the captain and 1st officer must simultaneously use their launch keys. Hackman is determined to launch and Washington stands firm until eventually this results in armed insurrection aboard the sub. Eventually, the mistake is discovered and the missiles are not launched. Cool. However, here comes the part that just doesn\\'t ring true. After they are back on land and go before a review board, Washington and Hackman (who\\'d just spent half the movie trying to kill each other) shake hands and are all buddy buddy! Huh?! Too trite an ending to make the movie worth while for me.'\n",
            " b'UC 0079, the One Year War is almost at an end. A neutral colony of Side 6 has been targeted by Cyclops, a Zeon task force. Their target, a new Gundam being built exclusively for Newtypes (supposedly built for Amuro Ray from the original Gundam saga) inside. When little boy Al Izuruha, a fan of Zeon MS, encounters a Zaku after battle breaks out in the colony, he befriends newbie MS pilot Benard \"Bernie\" Wiseman. The two become good friends, Al is treated as an honorary member of the Cyclops team. Through the show, Bernie acts as a father figure to Al (whose real father is always working) and seems to be taken with Federation pilot Christina McKenzie, but eventually they must meet....in battle. Al soon learns that war is not child\\'s play and Bernie must choose to make the ultimate sacrifice to complete his mission.<br /><br />For only 6 episodes, Gundam 0080 is a well done show. The mobile suits are extremely well designed, and the animation may look dated but really shows emotion in the characters. If you liked 0083 then check this one out, or if you are new to the Gundam world, this is a good show to start with. If you look to a show for drama and character development, this is the one for you, it focuses more on that then mobile suit battle. I would rate it more of a drama than action.<br /><br />Mobile Suit Gundam 0080, War in the Pocket. <br /><br />Sometimes you have to lose to win.'\n",
            " b'I thought the whole movie played out beautifully with fresh images and interesting cinematography the whole way through it. The actors were on top of their character\\'s backs in nearly perfect timing and looked great. The music was lush and well-thought-out. It even had a decent twist of an ending. So what\\'s with everyone voting it down? The story wasn\\'t entirely fresh (felt like a remnant of \"Running Man\" with the whole television show idea), but the attitude towards Christianity and Judaism about how the public picks their Messiah certainly sounded true enough. It made sense to follow this one man who was put before a modern crowd and to put him on a pedestal because of his opportunity.<br /><br />It\\'s possible that Christians or other religious people pick this up because the movie has the word \"God\" in it, but that shows what the filmmakers were trying to do is to teach a possibility to people who maybe never saw the world like this, especially in the modern world where Christianity has been more and more accepted and forgotten about by some.<br /><br />I gave it a 7/10 stars here on IMDb. I thought every ounce of the movie was entertaining and original, for the most-part. Check it out if you\\'re not too offended to see an entertaining film from Madrid, Spain, about possibilities of the coming modern Messiah to a TV near you.']\n",
            "\n",
            "labels:  [0 1 1]\n"
          ]
        }
      ]
    },
    {
      "cell_type": "markdown",
      "source": [
        "**Buat Teks Encoder**\n",
        "\n",
        "Teks mentah yang dimuat oleh tfds perlu diproses sebelum dapat digunakan dalam model. Cara termudah memproses teks untuk pelatihan adalah menggunakan lapisan TextVectorization. Lapisan ini memiliki banyak kemampuan, namun pada tutorial ini menggunakan perilaku default. Buat lapisan tersebut, dan teruskan teks kumpulan data ke metode .adapt lapisan:"
      ],
      "metadata": {
        "id": "lRMtV4mmypfp"
      }
    },
    {
      "cell_type": "code",
      "source": [
        "VOCAB_SIZE = 1000\n",
        "encoder = tf.keras.layers.TextVectorization(\n",
        "    max_tokens=VOCAB_SIZE)\n",
        "encoder.adapt(train_dataset.map(lambda text, label: text))"
      ],
      "metadata": {
        "id": "4xgkbXysyunM"
      },
      "execution_count": 7,
      "outputs": []
    },
    {
      "cell_type": "markdown",
      "source": [
        "Metode .adapt mengatur kosakata lapisan. 20 token pertama dapat dilihat dengan kode berikut. Setelah padding dan token yang tidak diketahui, mereka diurutkan berdasarkan frekuensi:"
      ],
      "metadata": {
        "id": "YK2zae_3yxOT"
      }
    },
    {
      "cell_type": "code",
      "source": [
        "vocab=np.array(encoder.get_vocabulary())\n",
        "vocab[:20]"
      ],
      "metadata": {
        "colab": {
          "base_uri": "https://localhost:8080/"
        },
        "id": "82V013lvyyGU",
        "outputId": "3d422ba2-62fd-4ee0-83f6-1a1c48e753e4"
      },
      "execution_count": 8,
      "outputs": [
        {
          "output_type": "execute_result",
          "data": {
            "text/plain": [
              "array(['', '[UNK]', 'the', 'and', 'a', 'of', 'to', 'is', 'in', 'it', 'i',\n",
              "       'this', 'that', 'br', 'was', 'as', 'for', 'with', 'movie', 'but'],\n",
              "      dtype='<U14')"
            ]
          },
          "metadata": {},
          "execution_count": 8
        }
      ]
    },
    {
      "cell_type": "markdown",
      "source": [
        "Setelah kosakata diatur, lapisan dapat mengkodekan teks ke dalam indeks. Tensor indeks diberi bantalan 0 ke urutan terpanjang dalam batch (kecuali jika Anda menetapkan output_sequence_length tetap):"
      ],
      "metadata": {
        "id": "N-OHZlOZyzqj"
      }
    },
    {
      "cell_type": "code",
      "source": [
        "encoded_example=encoder(example)[:3].numpy()\n",
        "encoded_example"
      ],
      "metadata": {
        "colab": {
          "base_uri": "https://localhost:8080/"
        },
        "id": "L33RRBeby067",
        "outputId": "f3451f95-b0ee-4c7e-9f62-fbde3e02040e"
      },
      "execution_count": 9,
      "outputs": [
        {
          "output_type": "execute_result",
          "data": {
            "text/plain": [
              "array([[ 58, 351,   2, ...,   0,   0,   0],\n",
              "       [  1,   1,   2, ...,   0,   0,   0],\n",
              "       [ 10, 199,   2, ...,   0,   0,   0]])"
            ]
          },
          "metadata": {},
          "execution_count": 9
        }
      ]
    },
    {
      "cell_type": "markdown",
      "source": [
        "Dengan pengaturan default, prosesnya tidak dapat dibalik sepenuhnya. Ada dua alasan utama untuk itu:\n",
        "\n",
        " - Nilai default untuk argumen standarisasi preprocessing.TextVectorization adalah \"lower_and_strip_punctuation\".\n",
        " - Ukuran kosa kata yang terbatas dan kurangnya fallback berbasis karakter menghasilkan beberapa token yang tidak diketahui."
      ],
      "metadata": {
        "id": "9slbiLkpy35G"
      }
    },
    {
      "cell_type": "code",
      "source": [
        "for n in range(3):\n",
        "  print(\"Original: \", example[n].numpy())\n",
        "  print(\"Round-trip: \", \" \".join(vocab[encoded_example[n]]))\n",
        "  print()"
      ],
      "metadata": {
        "colab": {
          "base_uri": "https://localhost:8080/"
        },
        "id": "GCNdxBZqy9jC",
        "outputId": "08e08dbd-cc39-47ee-fc0b-0dc17e43dc76"
      },
      "execution_count": 10,
      "outputs": [
        {
          "output_type": "stream",
          "name": "stdout",
          "text": [
            "Original:  b'Up until the last few minutes of the movie, I would have given the movie a score of 7 or 8 stars. However, the ending is so terrible and \"Hollywoodized\" that it completely undermines the first 80% of the movie.<br /><br />The plot revolves around a submarine and the possibility that they received an order to fire their nuclear missiles. The Captain, Gene Hackman, is all for launching, while his first officer, Denzel Washington, is in favor of confirming the launch orders first. The problem is, to launch BOTH the captain and 1st officer must simultaneously use their launch keys. Hackman is determined to launch and Washington stands firm until eventually this results in armed insurrection aboard the sub. Eventually, the mistake is discovered and the missiles are not launched. Cool. However, here comes the part that just doesn\\'t ring true. After they are back on land and go before a review board, Washington and Hackman (who\\'d just spent half the movie trying to kill each other) shake hands and are all buddy buddy! Huh?! Too trite an ending to make the movie worth while for me.'\n",
            "Round-trip:  up until the last few minutes of the movie i would have given the movie a score of [UNK] or [UNK] stars however the ending is so terrible and [UNK] that it completely [UNK] the first [UNK] of the moviebr br the plot [UNK] around a [UNK] and the [UNK] that they [UNK] an order to fire their [UNK] [UNK] the [UNK] [UNK] [UNK] is all for [UNK] while his first [UNK] [UNK] [UNK] is in [UNK] of [UNK] the [UNK] [UNK] first the problem is to [UNK] both the [UNK] and [UNK] [UNK] must [UNK] use their [UNK] [UNK] [UNK] is [UNK] to [UNK] and [UNK] [UNK] [UNK] until eventually this [UNK] in [UNK] [UNK] [UNK] the [UNK] eventually the [UNK] is [UNK] and the [UNK] are not [UNK] cool however here comes the part that just doesnt [UNK] true after they are back on [UNK] and go before a review [UNK] [UNK] and [UNK] [UNK] just [UNK] half the movie trying to kill each other [UNK] hands and are all [UNK] [UNK] [UNK] too [UNK] an ending to make the movie worth while for me                                                                                                                                                                                                                                                                                                                                                                                                                                                                                      \n",
            "\n",
            "Original:  b'UC 0079, the One Year War is almost at an end. A neutral colony of Side 6 has been targeted by Cyclops, a Zeon task force. Their target, a new Gundam being built exclusively for Newtypes (supposedly built for Amuro Ray from the original Gundam saga) inside. When little boy Al Izuruha, a fan of Zeon MS, encounters a Zaku after battle breaks out in the colony, he befriends newbie MS pilot Benard \"Bernie\" Wiseman. The two become good friends, Al is treated as an honorary member of the Cyclops team. Through the show, Bernie acts as a father figure to Al (whose real father is always working) and seems to be taken with Federation pilot Christina McKenzie, but eventually they must meet....in battle. Al soon learns that war is not child\\'s play and Bernie must choose to make the ultimate sacrifice to complete his mission.<br /><br />For only 6 episodes, Gundam 0080 is a well done show. The mobile suits are extremely well designed, and the animation may look dated but really shows emotion in the characters. If you liked 0083 then check this one out, or if you are new to the Gundam world, this is a good show to start with. If you look to a show for drama and character development, this is the one for you, it focuses more on that then mobile suit battle. I would rate it more of a drama than action.<br /><br />Mobile Suit Gundam 0080, War in the Pocket. <br /><br />Sometimes you have to lose to win.'\n",
            "Round-trip:  [UNK] [UNK] the one year war is almost at an end a [UNK] [UNK] of side [UNK] has been [UNK] by [UNK] a [UNK] [UNK] [UNK] their [UNK] a new [UNK] being [UNK] [UNK] for [UNK] [UNK] [UNK] for [UNK] [UNK] from the original [UNK] [UNK] inside when little boy [UNK] [UNK] a fan of [UNK] [UNK] [UNK] a [UNK] after battle [UNK] out in the [UNK] he [UNK] [UNK] [UNK] [UNK] [UNK] [UNK] [UNK] the two become good friends [UNK] is [UNK] as an [UNK] [UNK] of the [UNK] team through the show [UNK] [UNK] as a father figure to [UNK] whose real father is always working and seems to be taken with [UNK] [UNK] [UNK] [UNK] but eventually they must [UNK] battle [UNK] soon [UNK] that war is not [UNK] play and [UNK] must [UNK] to make the [UNK] [UNK] to complete his [UNK] br for only [UNK] episodes [UNK] [UNK] is a well done show the [UNK] [UNK] are extremely well [UNK] and the animation may look [UNK] but really shows [UNK] in the characters if you liked [UNK] then check this one out or if you are new to the [UNK] world this is a good show to start with if you look to a show for drama and character development this is the one for you it [UNK] more on that then [UNK] [UNK] battle i would [UNK] it more of a drama than [UNK] br [UNK] [UNK] [UNK] [UNK] war in the [UNK] br br sometimes you have to [UNK] to [UNK]                                                                                                                                                                                                                                                                                                                                                                                                               \n",
            "\n",
            "Original:  b'I thought the whole movie played out beautifully with fresh images and interesting cinematography the whole way through it. The actors were on top of their character\\'s backs in nearly perfect timing and looked great. The music was lush and well-thought-out. It even had a decent twist of an ending. So what\\'s with everyone voting it down? The story wasn\\'t entirely fresh (felt like a remnant of \"Running Man\" with the whole television show idea), but the attitude towards Christianity and Judaism about how the public picks their Messiah certainly sounded true enough. It made sense to follow this one man who was put before a modern crowd and to put him on a pedestal because of his opportunity.<br /><br />It\\'s possible that Christians or other religious people pick this up because the movie has the word \"God\" in it, but that shows what the filmmakers were trying to do is to teach a possibility to people who maybe never saw the world like this, especially in the modern world where Christianity has been more and more accepted and forgotten about by some.<br /><br />I gave it a 7/10 stars here on IMDb. I thought every ounce of the movie was entertaining and original, for the most-part. Check it out if you\\'re not too offended to see an entertaining film from Madrid, Spain, about possibilities of the coming modern Messiah to a TV near you.'\n",
            "Round-trip:  i thought the whole movie played out [UNK] with [UNK] [UNK] and interesting cinematography the whole way through it the actors were on top of their characters [UNK] in nearly perfect [UNK] and looked great the music was [UNK] and [UNK] it even had a decent twist of an ending so whats with everyone [UNK] it down the story wasnt [UNK] [UNK] felt like a [UNK] of running man with the whole television show idea but the [UNK] towards [UNK] and [UNK] about how the [UNK] [UNK] their [UNK] certainly [UNK] true enough it made sense to follow this one man who was put before a modern [UNK] and to put him on a [UNK] because of his [UNK] br its possible that [UNK] or other [UNK] people [UNK] this up because the movie has the word god in it but that shows what the filmmakers were trying to do is to [UNK] a [UNK] to people who maybe never saw the world like this especially in the modern world where [UNK] has been more and more [UNK] and [UNK] about by [UNK] br i gave it a [UNK] stars here on imdb i thought every [UNK] of the movie was entertaining and original for the [UNK] check it out if youre not too [UNK] to see an entertaining film from [UNK] [UNK] about [UNK] of the coming modern [UNK] to a tv near you                                                                                                                                                                                                                                                                                                                                                                                                                                      \n",
            "\n"
          ]
        }
      ]
    },
    {
      "cell_type": "markdown",
      "source": [
        "**Buat Model**\n",
        "\n",
        "![image.png](data:image/png;base64,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)"
      ],
      "metadata": {
        "id": "Uj6CaEMDzJMe"
      }
    },
    {
      "cell_type": "markdown",
      "source": [
        "diagram model dapat dilihat pada gambar diatas\n",
        "\n",
        "\n",
        "\n",
        "1. Model ini dapat dibuat sebagai tf.keras.Sequential.\n",
        "2. Lapisan pertama adalah encoder, yang mengubah teks menjadi urutan indeks token.\n",
        "3. Setelah encoder adalah lapisan penyematan (embedding layer). Lapisan penyematan menyimpan satu vektor per kata. Saat dipanggil, ini mengubah rangkaian indeks kata menjadi rangkaian vektor. Vektor-vektor ini dapat dilatih. Setelah pelatihan (dengan data yang cukup), kata-kata dengan arti yang mirip sering kali memiliki vektor yang serupa. Pencarian indeks ini jauh lebih efisien daripada operasi setara dengan meneruskan vektor yang disandikan one-hot melalui lapisan tf.keras.layers.Dense.\n",
        "4. Jaringan saraf berulang (RNN) memproses masukan urutan dengan melakukan iterasi melalui elemen. RNN meneruskan keluaran dari satu langkah waktu ke masukannya pada langkah waktu berikutnya.\n",
        "\n"
      ],
      "metadata": {
        "id": "xRe-iW9cze1r"
      }
    },
    {
      "cell_type": "markdown",
      "source": [
        "Pembungkus tf.keras.layers.Bidirection juga dapat digunakan dengan lapisan RNN. Ini menyebarkan masukan maju dan mundur melalui lapisan RNN dan kemudian menggabungkan keluaran akhir.\n",
        "\n",
        "* Keuntungan utama RNN dua arah adalah sinyal dari awal masukan tidak perlu diproses sepanjang waktu untuk memengaruhi keluaran.\n",
        "* Kerugian utama dari RNN dua arah adalah Anda tidak dapat melakukan streaming prediksi secara efisien saat kata-kata ditambahkan di akhir.\n",
        "\n",
        "\n",
        "5. Setelah RNN mengonversi urutan menjadi satu vektor, kedua lapisan tersebut.Dense melakukan beberapa pemrosesan akhir, dan mengonversi representasi vektor ini menjadi logit tunggal sebagai keluaran klasifikasi.\n",
        "\n",
        "Kode nya adalah sebagai berikut :\n",
        "\n"
      ],
      "metadata": {
        "id": "mtFIB3SjzteX"
      }
    },
    {
      "cell_type": "code",
      "source": [
        "model = tf.keras.Sequential([\n",
        "    encoder,\n",
        "    tf.keras.layers.Embedding(\n",
        "        input_dim=len(encoder.get_vocabulary()),\n",
        "        output_dim=64,\n",
        "        # Use masking to handle the variable sequence lengths\n",
        "        mask_zero=True),\n",
        "    tf.keras.layers.Bidirectional(tf.keras.layers.LSTM(64)),\n",
        "    tf.keras.layers.Dense(64, activation='relu'),\n",
        "    tf.keras.layers.Dense(1)\n",
        "])"
      ],
      "metadata": {
        "id": "O140h7C60AKr"
      },
      "execution_count": 11,
      "outputs": []
    },
    {
      "cell_type": "markdown",
      "source": [
        "Harap dicatat bahwa model sekuensial Keras digunakan di sini karena semua lapisan dalam model hanya memiliki masukan tunggal dan menghasilkan keluaran tunggal. Jika Anda ingin menggunakan lapisan RNN stateful, Anda mungkin ingin membangun model Anda dengan API fungsional Keras atau subkelas model sehingga Anda dapat mengambil dan menggunakan kembali status lapisan RNN. Untuk detailnya bisa dilihat pada Keras RNN guide.\n",
        "\n",
        "Lapisan penyematan menggunakan masking (uses masking ) untuk menangani panjang urutan yang bervariasi. Semua lapisan setelah penyematan dukungan penyematan"
      ],
      "metadata": {
        "id": "GFA1Cee60Bmn"
      }
    },
    {
      "cell_type": "code",
      "source": [
        "print([layer.supports_masking for layer in model.layers])"
      ],
      "metadata": {
        "colab": {
          "base_uri": "https://localhost:8080/"
        },
        "id": "ZI4v_SQG0FDS",
        "outputId": "0724418e-dcc4-4a0c-a6f5-74ce9db3c7a7"
      },
      "execution_count": 12,
      "outputs": [
        {
          "output_type": "stream",
          "name": "stdout",
          "text": [
            "[False, True, True, True, True]\n"
          ]
        }
      ]
    },
    {
      "cell_type": "markdown",
      "source": [
        "Untuk memastikan bahwa ini berfungsi seperti yang diharapkan, evaluasi sebuah kalimat dua kali. Pertama, satu kalimat sehingga tidak ada bantalan (padding) untuk disamarkan:"
      ],
      "metadata": {
        "id": "hl8Y-Yta0G4_"
      }
    },
    {
      "cell_type": "code",
      "source": [
        "# predict on a sample text without padding.\n",
        "\n",
        "sample_text = ('The movie was cool. The animation and the graphics '\n",
        "               'were out of this world. I would recommend this movie.')\n",
        "predictions = model.predict(np.array([sample_text]))\n",
        "print(predictions[0])"
      ],
      "metadata": {
        "colab": {
          "base_uri": "https://localhost:8080/"
        },
        "id": "CyPM8U8e0IwJ",
        "outputId": "252ccc40-4e43-44a9-db27-f714891436d7"
      },
      "execution_count": 13,
      "outputs": [
        {
          "output_type": "stream",
          "name": "stdout",
          "text": [
            "1/1 [==============================] - 7s 7s/step\n",
            "[0.00421945]\n"
          ]
        }
      ]
    },
    {
      "cell_type": "markdown",
      "source": [
        "Sekarang, evaluasi lagi dalam batch dengan kalimat yang lebih panjang. Hasilnya harus sama:"
      ],
      "metadata": {
        "id": "-U6MAdjb0KWl"
      }
    },
    {
      "cell_type": "code",
      "source": [
        "# predict on a sample text with padding\n",
        "\n",
        "padding = \"the \" * 2000\n",
        "predictions = model.predict(np.array([sample_text, padding]))\n",
        "print(predictions[0])"
      ],
      "metadata": {
        "colab": {
          "base_uri": "https://localhost:8080/"
        },
        "id": "sJGpcGlr0LqC",
        "outputId": "8730a2c5-46ff-43f2-d898-956bf8aa6d9e"
      },
      "execution_count": 14,
      "outputs": [
        {
          "output_type": "stream",
          "name": "stdout",
          "text": [
            "1/1 [==============================] - 0s 81ms/step\n",
            "[0.00421944]\n"
          ]
        }
      ]
    },
    {
      "cell_type": "markdown",
      "source": [
        "compile model Keras untuk mengonfigurasi proses pelatihan:"
      ],
      "metadata": {
        "id": "RhPzMEHJ0NVF"
      }
    },
    {
      "cell_type": "code",
      "source": [
        "model.compile(loss=tf.keras.losses.BinaryCrossentropy(from_logits=True),\n",
        "              optimizer=tf.keras.optimizers.Adam(1e-4),\n",
        "              metrics=['accuracy'])"
      ],
      "metadata": {
        "id": "OEIzS_pU0NC1"
      },
      "execution_count": 15,
      "outputs": []
    },
    {
      "cell_type": "markdown",
      "source": [
        "**Train Model**"
      ],
      "metadata": {
        "id": "-SPG_hQ10PZl"
      }
    },
    {
      "cell_type": "code",
      "source": [
        "history = model.fit(train_dataset,\n",
        "                    epochs=10,\n",
        "                    validation_data=test_dataset,\n",
        "                    validation_steps=30)"
      ],
      "metadata": {
        "colab": {
          "base_uri": "https://localhost:8080/"
        },
        "id": "pkLmNMW80Sfh",
        "outputId": "98838664-9493-4530-f8b4-7f69774e5357"
      },
      "execution_count": 16,
      "outputs": [
        {
          "output_type": "stream",
          "name": "stdout",
          "text": [
            "Epoch 1/10\n",
            "391/391 [==============================] - 48s 99ms/step - loss: 0.6494 - accuracy: 0.5580 - val_loss: 0.4889 - val_accuracy: 0.7563\n",
            "Epoch 2/10\n",
            "391/391 [==============================] - 25s 63ms/step - loss: 0.4133 - accuracy: 0.8058 - val_loss: 0.3733 - val_accuracy: 0.8156\n",
            "Epoch 3/10\n",
            "391/391 [==============================] - 24s 60ms/step - loss: 0.3410 - accuracy: 0.8496 - val_loss: 0.3361 - val_accuracy: 0.8484\n",
            "Epoch 4/10\n",
            "391/391 [==============================] - 24s 60ms/step - loss: 0.3212 - accuracy: 0.8616 - val_loss: 0.3491 - val_accuracy: 0.8260\n",
            "Epoch 5/10\n",
            "391/391 [==============================] - 24s 62ms/step - loss: 0.3123 - accuracy: 0.8648 - val_loss: 0.3232 - val_accuracy: 0.8536\n",
            "Epoch 6/10\n",
            "391/391 [==============================] - 24s 60ms/step - loss: 0.3077 - accuracy: 0.8666 - val_loss: 0.3227 - val_accuracy: 0.8583\n",
            "Epoch 7/10\n",
            "391/391 [==============================] - 24s 61ms/step - loss: 0.3018 - accuracy: 0.8715 - val_loss: 0.3240 - val_accuracy: 0.8521\n",
            "Epoch 8/10\n",
            "391/391 [==============================] - 24s 60ms/step - loss: 0.2994 - accuracy: 0.8727 - val_loss: 0.3180 - val_accuracy: 0.8620\n",
            "Epoch 9/10\n",
            "391/391 [==============================] - 24s 60ms/step - loss: 0.3019 - accuracy: 0.8694 - val_loss: 0.3295 - val_accuracy: 0.8604\n",
            "Epoch 10/10\n",
            "391/391 [==============================] - 24s 61ms/step - loss: 0.2970 - accuracy: 0.8709 - val_loss: 0.3189 - val_accuracy: 0.8536\n"
          ]
        }
      ]
    },
    {
      "cell_type": "code",
      "source": [
        "test_loss, test_acc = model.evaluate(test_dataset)\n",
        "\n",
        "print('Test Loss:', test_loss)\n",
        "print('Test Accuracy:', test_acc)"
      ],
      "metadata": {
        "colab": {
          "base_uri": "https://localhost:8080/"
        },
        "id": "FwgBRvNB0UY2",
        "outputId": "232f0c93-127e-4f74-f54e-d1b07f5c8847"
      },
      "execution_count": 17,
      "outputs": [
        {
          "output_type": "stream",
          "name": "stdout",
          "text": [
            "391/391 [==============================] - 11s 29ms/step - loss: 0.3172 - accuracy: 0.8526\n",
            "Test Loss: 0.31717345118522644\n",
            "Test Accuracy: 0.8526399731636047\n"
          ]
        }
      ]
    },
    {
      "cell_type": "code",
      "source": [
        "plt.figure(figsize=(16, 8))\n",
        "plt.subplot(1, 2, 1)\n",
        "plot_graphs(history, 'accuracy')\n",
        "plt.ylim(None, 1)\n",
        "plt.subplot(1, 2, 2)\n",
        "plot_graphs(history, 'loss')\n",
        "plt.ylim(0, None)"
      ],
      "metadata": {
        "colab": {
          "base_uri": "https://localhost:8080/",
          "height": 718
        },
        "id": "5yzjLRnJ0V-Q",
        "outputId": "71954147-09a7-4f99-c31b-96e0df70007f"
      },
      "execution_count": 18,
      "outputs": [
        {
          "output_type": "execute_result",
          "data": {
            "text/plain": [
              "(0.0, 0.6669725477695465)"
            ]
          },
          "metadata": {},
          "execution_count": 18
        },
        {
          "output_type": "display_data",
          "data": {
            "text/plain": [
              "<Figure size 1600x800 with 2 Axes>"
            ],
            "image/png": "[encoded data removed]"
          },
          "metadata": {}
        }
      ]
    },
    {
      "cell_type": "markdown",
      "source": [
        "Jalankan prediksi pada kalimat baru:\n",
        "\n",
        "Jika prediksi >= 0,0 berarti positif, jika tidak maka negatif."
      ],
      "metadata": {
        "id": "XaUXDshX0Xy3"
      }
    },
    {
      "cell_type": "code",
      "source": [
        "sample_text = ('The movie was cool. The animation and the graphics '\n",
        "               'were out of this world. I would recommend this movie.')\n",
        "\n",
        "# Assuming 'model' is properly defined and compiled\n",
        "predictions = model.predict(np.array([sample_text]))"
      ],
      "metadata": {
        "colab": {
          "base_uri": "https://localhost:8080/"
        },
        "id": "__OdlJJg0ZpQ",
        "outputId": "8d6a9edb-b5b7-4f89-ea65-0a7eedeb11a6"
      },
      "execution_count": 19,
      "outputs": [
        {
          "output_type": "stream",
          "name": "stdout",
          "text": [
            "1/1 [==============================] - 3s 3s/step\n"
          ]
        }
      ]
    },
    {
      "cell_type": "markdown",
      "source": [
        "**Stack two or more LSTM layers**\n",
        "\n",
        "Lapisan berulang Keras memiliki dua mode yang tersedia yang dikontrol oleh argumen konstruktor return_sequences :\n",
        "\n",
        "\n",
        "* Jika False, ia hanya mengembalikan keluaran terakhir untuk setiap urutan masukan (bentuk tensor 2D (batch_size, output_features)). Ini adalah default yang digunakan pada model sebelumnya.\n",
        "* Jika True, Sequence lengkap output berturut-turut untuk setiap langkah waktu dikembalikan (bentuk tensor 3D (ukuran_batch, langkah waktu, fitur_output)).\n",
        "\n",
        "Berikut adalah alur informasi dengan return_sequences=True:\n",
        "\n",
        "![image.png](data:image/png;base64,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)\n",
        "\n",
        "Hal yang menarik dari penggunaan RNN dengan return_sequences=True adalah outputnya masih memiliki 3 axis, sama seperti inputnya, sehingga bisa diteruskan ke layer RNN lain, seperti ini:"
      ],
      "metadata": {
        "id": "dREdfubX0pxV"
      }
    },
    {
      "cell_type": "code",
      "source": [
        "model = tf.keras.Sequential([\n",
        "    encoder,\n",
        "    tf.keras.layers.Embedding(len(encoder.get_vocabulary()), 64, mask_zero=True),\n",
        "    tf.keras.layers.Bidirectional(tf.keras.layers.LSTM(64, return_sequences=True)),\n",
        "    tf.keras.layers.Bidirectional(tf.keras.layers.LSTM(32)),\n",
        "    tf.keras.layers.Dense(64, activation='relu'),\n",
        "    tf.keras.layers.Dropout(0.5),\n",
        "    tf.keras.layers.Dense(1)\n",
        "])"
      ],
      "metadata": {
        "id": "TCfB4ld51Lic"
      },
      "execution_count": 20,
      "outputs": []
    },
    {
      "cell_type": "code",
      "source": [
        "model.compile(loss=tf.keras.losses.BinaryCrossentropy(from_logits=True),\n",
        "              optimizer=tf.keras.optimizers.Adam(1e-4),\n",
        "              metrics=['accuracy'])"
      ],
      "metadata": {
        "id": "ChILXtP71M5W"
      },
      "execution_count": 21,
      "outputs": []
    },
    {
      "cell_type": "code",
      "source": [
        "history = model.fit(train_dataset, epochs=10,\n",
        "validation_data=test_dataset,\n",
        "validation_steps=30)"
      ],
      "metadata": {
        "colab": {
          "base_uri": "https://localhost:8080/"
        },
        "id": "D0JRozLx1QEI",
        "outputId": "731e437e-9730-4c02-c609-b2f2e1a93cec"
      },
      "execution_count": 22,
      "outputs": [
        {
          "output_type": "stream",
          "name": "stdout",
          "text": [
            "Epoch 1/10\n",
            "391/391 [==============================] - 76s 150ms/step - loss: 0.6209 - accuracy: 0.6010 - val_loss: 0.4471 - val_accuracy: 0.7724\n",
            "Epoch 2/10\n",
            "391/391 [==============================] - 45s 114ms/step - loss: 0.4001 - accuracy: 0.8242 - val_loss: 0.3689 - val_accuracy: 0.8432\n",
            "Epoch 3/10\n",
            "391/391 [==============================] - 45s 114ms/step - loss: 0.3559 - accuracy: 0.8469 - val_loss: 0.3414 - val_accuracy: 0.8510\n",
            "Epoch 4/10\n",
            "391/391 [==============================] - 44s 112ms/step - loss: 0.3307 - accuracy: 0.8597 - val_loss: 0.3342 - val_accuracy: 0.8448\n",
            "Epoch 5/10\n",
            "391/391 [==============================] - 46s 117ms/step - loss: 0.3181 - accuracy: 0.8662 - val_loss: 0.3260 - val_accuracy: 0.8516\n",
            "Epoch 6/10\n",
            "391/391 [==============================] - 46s 117ms/step - loss: 0.3094 - accuracy: 0.8702 - val_loss: 0.3226 - val_accuracy: 0.8542\n",
            "Epoch 7/10\n",
            "391/391 [==============================] - 45s 114ms/step - loss: 0.3047 - accuracy: 0.8710 - val_loss: 0.3217 - val_accuracy: 0.8521\n",
            "Epoch 8/10\n",
            "391/391 [==============================] - 46s 118ms/step - loss: 0.3006 - accuracy: 0.8723 - val_loss: 0.3263 - val_accuracy: 0.8484\n",
            "Epoch 9/10\n",
            "391/391 [==============================] - 44s 112ms/step - loss: 0.2974 - accuracy: 0.8734 - val_loss: 0.3205 - val_accuracy: 0.8510\n",
            "Epoch 10/10\n",
            "391/391 [==============================] - 45s 115ms/step - loss: 0.2934 - accuracy: 0.8762 - val_loss: 0.3197 - val_accuracy: 0.8516\n"
          ]
        }
      ]
    },
    {
      "cell_type": "code",
      "source": [
        "test_loss, test_acc = model.evaluate(test_dataset)\n",
        "\n",
        "print('Test Loss:', test_loss)\n",
        "print('Test Accuracy:', test_acc)"
      ],
      "metadata": {
        "colab": {
          "base_uri": "https://localhost:8080/"
        },
        "id": "EYg2Q70v1Rtm",
        "outputId": "e4018a43-7186-4d29-87b4-9c08e625aacc"
      },
      "execution_count": 23,
      "outputs": [
        {
          "output_type": "stream",
          "name": "stdout",
          "text": [
            "391/391 [==============================] - 18s 46ms/step - loss: 0.3163 - accuracy: 0.8605\n",
            "Test Loss: 0.31627973914146423\n",
            "Test Accuracy: 0.8605200052261353\n"
          ]
        }
      ]
    },
    {
      "cell_type": "code",
      "source": [
        "# predict on a sample text without padding.\n",
        "\n",
        "sample_text = ('The movie was not good. The animation and the graphics '\n",
        "'were terrible. I would not recommend this movie.')\n",
        "predictions = model.predict(np.array([sample_text]))\n",
        "print(predictions)"
      ],
      "metadata": {
        "colab": {
          "base_uri": "https://localhost:8080/"
        },
        "id": "mEKWqZet1SxX",
        "outputId": "85dbc978-1ed1-4acd-a6b7-a17dde644b27"
      },
      "execution_count": 24,
      "outputs": [
        {
          "output_type": "stream",
          "name": "stdout",
          "text": [
            "1/1 [==============================] - 5s 5s/step\n",
            "[[-1.426059]]\n"
          ]
        }
      ]
    },
    {
      "cell_type": "code",
      "source": [
        "plt.figure(figsize=(16, 6))\n",
        "plt.subplot(1, 2, 1)\n",
        "plot_graphs(history, 'accuracy')\n",
        "plt.subplot(1, 2, 2)\n",
        "plot_graphs(history, 'loss')"
      ],
      "metadata": {
        "colab": {
          "base_uri": "https://localhost:8080/",
          "height": 542
        },
        "id": "rFZVcviP1T6c",
        "outputId": "389ba552-6747-49a5-9114-c26b2338ebd2"
      },
      "execution_count": 25,
      "outputs": [
        {
          "output_type": "display_data",
          "data": {
            "text/plain": [
              "<Figure size 1600x600 with 2 Axes>"
            ],
            "image/png": "[encoded data removed]"
          },
          "metadata": {}
        }
      ]
    },
    {
      "cell_type": "markdown",
      "source": [
        "## **Praktikum 2: Generator Teks dengan RNN**\n",
        "**Setup**\n",
        "\n",
        "Praktikum ini mendemonstrasikan cara melakukan genearsi text menggunakan RNN. Dataset yang digunkan adalah dataset Shakespeare's writing from Andrej Karpathy's The Unreasonable Effectiveness of Recurrent Neural Networks. Jika diberikan urutan karakter dari data ini (\"Shakespear\"), latih model untuk memprediksi karakter berikutnya dalam urutan (\"e\"). Urutan teks yang lebih panjang dapat dihasilkan dengan memanggil model berulang kali.\n",
        "\n",
        "Note: Enable GPU acceleration to execute this notebook faster. In Colab: Runtime > Change runtime type > Hardware accelerator > GPU.\n",
        "\n",
        "Tutorial ini menggunakan tf.keras dan eager execution. Berikut adalah contoh output ketika model dalam tutorial ini dilatih selama 30 epoch, dan dimulai dengan prompt \"Q\":"
      ],
      "metadata": {
        "id": "KZCtxCPp1WEP"
      }
    },
    {
      "cell_type": "markdown",
      "source": [
        "QUEENE:\n",
        "I had thought thou hadst a Roman; for the oracle,\n",
        "Thus by All bids the man against the word,\n",
        "Which are so weak of care, by old care done;\n",
        "Your children were in your holy love,\n",
        "And the precipitation through the bleeding throne.\n",
        "\n",
        "BISHOP OF ELY:\n",
        "Marry, and will, my lord, to weep in such a one were prettiest;\n",
        "Yet now I was adopted heir\n",
        "Of the world's lamentable day,\n",
        "To watch the next way with his father with his face?\n",
        "\n",
        "ESCALUS:\n",
        "The cause why then we are all resolved more sons.\n",
        "\n",
        "VOLUMNIA:\n",
        "O, no, no, no, no, no, no, no, no, no, no, no, no, no, no, no, no, no, no, no, no, it is no sin it should be dead,\n",
        "And love and pale as any will to that word.\n",
        "\n",
        "QUEEN ELIZABETH:\n",
        "But how long have I heard the soul for this world,\n",
        "And show his hands of life be proved to stand.\n",
        "\n",
        "PETRUCHIO:\n",
        "I say he look'd on, if I must be content\n",
        "To stay him from the fatal of our country's bliss.\n",
        "His lordship pluck'd from this sentence then for prey,\n",
        "And then let us twain, being the moon,\n",
        "were she such a case as fills m"
      ],
      "metadata": {
        "id": "CAmCxZ7I8Hok"
      }
    },
    {
      "cell_type": "markdown",
      "source": [
        "Meskipun beberapa kalimat memiliki tata bahasa, sebagian besar tidak masuk akal. Model belum mempelajari arti kata-kata, namun anggap saja:\n",
        "\n",
        "\n",
        "* Modelnya berbasis karakter. Saat pelatihan dimulai, model tidak mengetahui cara mengeja kata dalam bahasa Inggris, atau bahkan kata-kata tersebut merupakan satuan teks.\n",
        "* Struktur keluarannya menyerupai sandiwara—blok teks umumnya dimulai dengan nama pembicara, dengan huruf kapital semua mirip dengan kumpulan data.\n",
        "* Seperti yang ditunjukkan di bawah, model dilatih pada kumpulan teks kecil (masing-masing 100 karakter), dan masih mampu menghasilkan rangkaian teks yang lebih panjang dengan struktur yang koheren.\n",
        "\n",
        "### **Setup**\n",
        "**Import TensorFlow**"
      ],
      "metadata": {
        "id": "-JxkAHZp8OZl"
      }
    },
    {
      "cell_type": "code",
      "source": [
        "import tensorflow as tf\n",
        "import numpy as np\n",
        "import os\n",
        "import time"
      ],
      "metadata": {
        "id": "DtIRZt--8m3M"
      },
      "execution_count": 26,
      "outputs": []
    },
    {
      "cell_type": "markdown",
      "source": [
        "**Download Dataset Shakespeare**\n",
        "\n",
        "Sesuaikan dengan lokasi data yang Anda punya."
      ],
      "metadata": {
        "id": "5svrkq_M8nPS"
      }
    },
    {
      "cell_type": "code",
      "source": [
        "path_to_file=tf.keras.utils.get_file('shakespeare.txt','https://storage.googleapis.com/download.tensorflow.org/data/shakespeare.txt')"
      ],
      "metadata": {
        "colab": {
          "base_uri": "https://localhost:8080/"
        },
        "id": "hTCdGAqh8vT0",
        "outputId": "e6971950-10b3-4ace-eeb5-86a315bf4b84"
      },
      "execution_count": 27,
      "outputs": [
        {
          "output_type": "stream",
          "name": "stdout",
          "text": [
            "Downloading data from https://storage.googleapis.com/download.tensorflow.org/data/shakespeare.txt\n",
            "1115394/1115394 [==============================] - 0s 0us/step\n"
          ]
        }
      ]
    },
    {
      "cell_type": "markdown",
      "source": [
        "**Load Data**"
      ],
      "metadata": {
        "id": "2RSIX50B84U5"
      }
    },
    {
      "cell_type": "code",
      "source": [
        "# Read, then decode for py2 compat.\n",
        "text = open(path_to_file, 'rb').read().decode(encoding='utf-8')\n",
        "# length of text is the number of characters in it\n",
        "print(f'Length of text: {len(text)} characters')"
      ],
      "metadata": {
        "colab": {
          "base_uri": "https://localhost:8080/"
        },
        "id": "Q1OT_gvY89cI",
        "outputId": "db9f2e82-b631-40ad-df81-e6f6ecbc20de"
      },
      "execution_count": 28,
      "outputs": [
        {
          "output_type": "stream",
          "name": "stdout",
          "text": [
            "Length of text: 1115394 characters\n"
          ]
        }
      ]
    },
    {
      "cell_type": "code",
      "source": [
        "# Take a look at the first 250 characters in text\n",
        "print(text[:250])"
      ],
      "metadata": {
        "colab": {
          "base_uri": "https://localhost:8080/"
        },
        "id": "IhGNwFPm8_pK",
        "outputId": "897d74e6-6ddd-4a69-fd91-e0031e496c0e"
      },
      "execution_count": 29,
      "outputs": [
        {
          "output_type": "stream",
          "name": "stdout",
          "text": [
            "First Citizen:\n",
            "Before we proceed any further, hear me speak.\n",
            "\n",
            "All:\n",
            "Speak, speak.\n",
            "\n",
            "First Citizen:\n",
            "You are all resolved rather to die than to famish?\n",
            "\n",
            "All:\n",
            "Resolved. resolved.\n",
            "\n",
            "First Citizen:\n",
            "First, you know Caius Marcius is chief enemy to the people.\n",
            "\n"
          ]
        }
      ]
    },
    {
      "cell_type": "code",
      "source": [
        "# The unique characters in the file\n",
        "vocab = sorted(set(text))\n",
        "print(f'{len(vocab)} unique characters')"
      ],
      "metadata": {
        "colab": {
          "base_uri": "https://localhost:8080/"
        },
        "id": "rn1xRb0a9BnU",
        "outputId": "0b34aec6-de02-4ff6-ece3-1e0fa3125e0b"
      },
      "execution_count": 30,
      "outputs": [
        {
          "output_type": "stream",
          "name": "stdout",
          "text": [
            "65 unique characters\n"
          ]
        }
      ]
    },
    {
      "cell_type": "markdown",
      "source": [
        "### **Olah Teks**\n",
        "**Vectorize Teks**\n",
        "\n",
        "Sebelum training, Anda perlu mengonversi string menjadi representasi numerik. tf.keras.layers.StringLookup dapat mengubah setiap karakter menjadi ID numerik. Caranya adalah teks akan dipecah menjadi token terlebih dahulu."
      ],
      "metadata": {
        "id": "cQeM3pQk9CYy"
      }
    },
    {
      "cell_type": "code",
      "source": [
        "example_texts=['abcdefg',\n",
        "               'xyz']\n",
        "chars=tf.strings.unicode_split(example_texts,\n",
        "                               input_encoding='UTF-8')\n",
        "chars"
      ],
      "metadata": {
        "colab": {
          "base_uri": "https://localhost:8080/"
        },
        "id": "SYOV6A8X9Kss",
        "outputId": "6ca76e41-3e76-417c-d21e-bcfb5090d714"
      },
      "execution_count": 31,
      "outputs": [
        {
          "output_type": "execute_result",
          "data": {
            "text/plain": [
              "<tf.RaggedTensor [[b'a', b'b', b'c', b'd', b'e', b'f', b'g'], [b'x', b'y', b'z']]>"
            ]
          },
          "metadata": {},
          "execution_count": 31
        }
      ]
    },
    {
      "cell_type": "markdown",
      "source": [
        "\n",
        "sekarang buat tf.keras.layers.StringLookup layer:"
      ],
      "metadata": {
        "id": "LbZx-u6t9Mev"
      }
    },
    {
      "cell_type": "code",
      "source": [
        "ids_from_chars = tf.keras.layers.StringLookup(vocabulary=list(vocab), mask_token=None)"
      ],
      "metadata": {
        "id": "VnvYmMIK9OKl"
      },
      "execution_count": 32,
      "outputs": []
    },
    {
      "cell_type": "markdown",
      "source": [
        "perintah diatas mengconvert token menjadi id"
      ],
      "metadata": {
        "id": "C5Bngu_z9Pjn"
      }
    },
    {
      "cell_type": "code",
      "source": [
        "ids=ids_from_chars(chars)\n",
        "ids"
      ],
      "metadata": {
        "colab": {
          "base_uri": "https://localhost:8080/"
        },
        "id": "1pBRQMvI9Q_P",
        "outputId": "f9c2c016-327c-4a93-cc3e-f27aeadc8b59"
      },
      "execution_count": 33,
      "outputs": [
        {
          "output_type": "execute_result",
          "data": {
            "text/plain": [
              "<tf.RaggedTensor [[40, 41, 42, 43, 44, 45, 46], [63, 64, 65]]>"
            ]
          },
          "metadata": {},
          "execution_count": 33
        }
      ]
    },
    {
      "cell_type": "markdown",
      "source": [
        "Karena tujuan tutorial ini adalah untuk menghasilkan teks, penting juga untuk membalikkan representasi ini. Untuk ini Anda dapat menggunakan kode tf.keras.layers.StringLookup(..., invert=True).\n",
        "\n",
        "Catatan: pada kode ini, daripada meneruskan kosakata asli yang dihasilkan dengan diurutkan(set(teks)) gunakan metode get_vocabulary() dari tf.keras.layers.StringLookup sehingga token [UNK] disetel dengan cara yang sama."
      ],
      "metadata": {
        "id": "nxe2sBIX9S8k"
      }
    },
    {
      "cell_type": "code",
      "source": [
        "chars_from_ids = tf.keras.layers.StringLookup(\n",
        "    vocabulary=ids_from_chars.get_vocabulary(), invert=True, mask_token=None)"
      ],
      "metadata": {
        "id": "UD713l329UoY"
      },
      "execution_count": 34,
      "outputs": []
    },
    {
      "cell_type": "markdown",
      "source": [
        "Lapisan ini mengconvert kembali karakter dari vektor ID, dan mengembalikannya sebagai karakter tf.RaggedTensor:"
      ],
      "metadata": {
        "id": "SfZlPSoG9WHE"
      }
    },
    {
      "cell_type": "code",
      "source": [
        "chars=chars_from_ids(ids)\n",
        "chars"
      ],
      "metadata": {
        "colab": {
          "base_uri": "https://localhost:8080/"
        },
        "id": "GAWE_6Fh9Xvu",
        "outputId": "0a6e00b2-d692-46ea-aba6-d6f7ff6f9931"
      },
      "execution_count": 35,
      "outputs": [
        {
          "output_type": "execute_result",
          "data": {
            "text/plain": [
              "<tf.RaggedTensor [[b'a', b'b', b'c', b'd', b'e', b'f', b'g'], [b'x', b'y', b'z']]>"
            ]
          },
          "metadata": {},
          "execution_count": 35
        }
      ]
    },
    {
      "cell_type": "markdown",
      "source": [
        "Anda dapat menggunakan tf.strings.reduce_join untuk menggabungkan kembali karakter menjadi string."
      ],
      "metadata": {
        "id": "vduyJKks9Ze2"
      }
    },
    {
      "cell_type": "code",
      "source": [
        "tf.strings.reduce_join(chars,axis=-1).numpy()"
      ],
      "metadata": {
        "colab": {
          "base_uri": "https://localhost:8080/"
        },
        "id": "A2OkX8es9a-K",
        "outputId": "b3268502-f1bc-4567-de3b-f626fdb807b1"
      },
      "execution_count": 36,
      "outputs": [
        {
          "output_type": "execute_result",
          "data": {
            "text/plain": [
              "array([b'abcdefg', b'xyz'], dtype=object)"
            ]
          },
          "metadata": {},
          "execution_count": 36
        }
      ]
    },
    {
      "cell_type": "code",
      "source": [
        "def text_from_ids(ids):\n",
        "    return tf.strings.reduce_join(chars_from_ids(ids), axis=-1)"
      ],
      "metadata": {
        "id": "dOveW_jz9cbN"
      },
      "execution_count": 37,
      "outputs": []
    },
    {
      "cell_type": "markdown",
      "source": [
        "**Prediksi**\n",
        "\n",
        "Diberikan sebuah karakter, atau serangkaian karakter, karakter apa yang paling mungkin berikutnya? Ini adalah tugas yang harus Anda latih agar model dapat melakukannya. Masukan ke model akan berupa urutan karakter, dan Anda melatih model untuk memprediksi keluaran berupa karakter berikut pada setiap langkah waktu. Karena RNN mempertahankan keadaan internal yang bergantung pada elemen yang terlihat sebelumnya, mengingat semua karakter dihitung hingga saat ini, karakter apa selanjutnya?\n",
        "\n",
        "**Membuat Trianing Set dan Target**\n",
        "\n",
        "Selanjutnya bagilah teks menjadi contoh sequence. Setiap masukan sequence akan berisi karakter seq_length dari teks. Untuk setiap masukan sequence, target prediksi berisi teks dengan panjang yang sama, hanya digeser satu karakter ke kanan. Jadi, bagi teks menjadi beberapa bagian seq_length+1. Misalnya, seq_length adalah 4 dan teks kita adalah \"Hello\". Urutan masukannya adalah \"Hell\", dan urutan targetnya adalah \"ello\". Untuk melakukan ini, pertama-tama gunakan fungsi tf.data.Dataset.from_tensor_slices untuk mengonversi vektor teks menjadi aliran indeks karakter."
      ],
      "metadata": {
        "id": "KL3ND0qu9fjm"
      }
    },
    {
      "cell_type": "code",
      "source": [
        "all_ids = ids_from_chars(tf.strings.unicode_split(text, 'UTF-8'))\n",
        "all_ids"
      ],
      "metadata": {
        "colab": {
          "base_uri": "https://localhost:8080/"
        },
        "id": "L30tjRg79gwg",
        "outputId": "959c11ef-8dea-4baa-a6ad-7a924f5984b4"
      },
      "execution_count": 38,
      "outputs": [
        {
          "output_type": "execute_result",
          "data": {
            "text/plain": [
              "<tf.Tensor: shape=(1115394,), dtype=int64, numpy=array([19, 48, 57, ..., 46,  9,  1])>"
            ]
          },
          "metadata": {},
          "execution_count": 38
        }
      ]
    },
    {
      "cell_type": "code",
      "source": [
        "ids_dataset = tf.data.Dataset.from_tensor_slices(all_ids)"
      ],
      "metadata": {
        "id": "jYNKjml_9nLg"
      },
      "execution_count": 39,
      "outputs": []
    },
    {
      "cell_type": "code",
      "source": [
        "for ids in ids_dataset.take(10):\n",
        "    print(chars_from_ids(ids).numpy().decode('utf-8'))"
      ],
      "metadata": {
        "colab": {
          "base_uri": "https://localhost:8080/"
        },
        "id": "I-ZRZnXY9oQ6",
        "outputId": "5ddeba4a-be95-499b-c35d-77dc4c5b0faf"
      },
      "execution_count": 40,
      "outputs": [
        {
          "output_type": "stream",
          "name": "stdout",
          "text": [
            "F\n",
            "i\n",
            "r\n",
            "s\n",
            "t\n",
            " \n",
            "C\n",
            "i\n",
            "t\n",
            "i\n"
          ]
        }
      ]
    },
    {
      "cell_type": "code",
      "source": [
        "seq_length = 100"
      ],
      "metadata": {
        "id": "PQmhMxVi9pmq"
      },
      "execution_count": 41,
      "outputs": []
    },
    {
      "cell_type": "markdown",
      "source": [
        "Metode batch memungkinkan Anda dengan mudah mengonversi karakter individual ini menjadi urutan ukuran yang diinginkan."
      ],
      "metadata": {
        "id": "uaaSI9L_9qtz"
      }
    },
    {
      "cell_type": "code",
      "source": [
        "sequences = ids_dataset.batch(seq_length+1, drop_remainder=True)\n",
        "\n",
        "for seq in sequences.take(1):\n",
        "  print(chars_from_ids(seq))"
      ],
      "metadata": {
        "colab": {
          "base_uri": "https://localhost:8080/"
        },
        "id": "4wyvy0Bo9sCm",
        "outputId": "42d085dc-e77e-47a5-e3fa-aa086e529896"
      },
      "execution_count": 42,
      "outputs": [
        {
          "output_type": "stream",
          "name": "stdout",
          "text": [
            "tf.Tensor(\n",
            "[b'F' b'i' b'r' b's' b't' b' ' b'C' b'i' b't' b'i' b'z' b'e' b'n' b':'\n",
            " b'\\n' b'B' b'e' b'f' b'o' b'r' b'e' b' ' b'w' b'e' b' ' b'p' b'r' b'o'\n",
            " b'c' b'e' b'e' b'd' b' ' b'a' b'n' b'y' b' ' b'f' b'u' b'r' b't' b'h'\n",
            " b'e' b'r' b',' b' ' b'h' b'e' b'a' b'r' b' ' b'm' b'e' b' ' b's' b'p'\n",
            " b'e' b'a' b'k' b'.' b'\\n' b'\\n' b'A' b'l' b'l' b':' b'\\n' b'S' b'p' b'e'\n",
            " b'a' b'k' b',' b' ' b's' b'p' b'e' b'a' b'k' b'.' b'\\n' b'\\n' b'F' b'i'\n",
            " b'r' b's' b't' b' ' b'C' b'i' b't' b'i' b'z' b'e' b'n' b':' b'\\n' b'Y'\n",
            " b'o' b'u' b' '], shape=(101,), dtype=string)\n"
          ]
        }
      ]
    },
    {
      "cell_type": "markdown",
      "source": [
        "akan lebih mudah untuk melihat apa yang dilakukan jika Anda menggabungkan token kembali menjadi string:"
      ],
      "metadata": {
        "id": "eM-EG-0W9tVH"
      }
    },
    {
      "cell_type": "code",
      "source": [
        "for seq in sequences.take(5):\n",
        "    print(text_from_ids(seq).numpy())"
      ],
      "metadata": {
        "colab": {
          "base_uri": "https://localhost:8080/"
        },
        "id": "292yNNmm9vvx",
        "outputId": "2e1b73e2-d753-422d-caf7-df3277690993"
      },
      "execution_count": 43,
      "outputs": [
        {
          "output_type": "stream",
          "name": "stdout",
          "text": [
            "b'First Citizen:\\nBefore we proceed any further, hear me speak.\\n\\nAll:\\nSpeak, speak.\\n\\nFirst Citizen:\\nYou '\n",
            "b'are all resolved rather to die than to famish?\\n\\nAll:\\nResolved. resolved.\\n\\nFirst Citizen:\\nFirst, you k'\n",
            "b\"now Caius Marcius is chief enemy to the people.\\n\\nAll:\\nWe know't, we know't.\\n\\nFirst Citizen:\\nLet us ki\"\n",
            "b\"ll him, and we'll have corn at our own price.\\nIs't a verdict?\\n\\nAll:\\nNo more talking on't; let it be d\"\n",
            "b'one: away, away!\\n\\nSecond Citizen:\\nOne word, good citizens.\\n\\nFirst Citizen:\\nWe are accounted poor citi'\n"
          ]
        }
      ]
    },
    {
      "cell_type": "markdown",
      "source": [
        "Untuk pelatihan, Anda memerlukan kumpulan data pasangan (input, label). Dimana input dan label merupakan urutan. Pada setiap langkah waktu, inputnya adalah karakter saat ini dan labelnya adalah karakter berikutnya. Berikut adalah fungsi yang mengambil urutan sebagai masukan, menduplikasi, dan menggesernya untuk menyelaraskan masukan dan label untuk setiap langkah waktu:"
      ],
      "metadata": {
        "id": "DLZFGaC_9xaC"
      }
    },
    {
      "cell_type": "code",
      "source": [
        "def split_input_target(sequence):\n",
        "    input_text = sequence[:-1]\n",
        "    target_text = sequence[1:]\n",
        "    return input_text, target_text"
      ],
      "metadata": {
        "id": "0uWds15s9yzv"
      },
      "execution_count": 44,
      "outputs": []
    },
    {
      "cell_type": "code",
      "source": [
        "split_input_target(list(\"Tensorflow\"))"
      ],
      "metadata": {
        "colab": {
          "base_uri": "https://localhost:8080/"
        },
        "id": "7fqRRFnf9z1t",
        "outputId": "fdbc488e-3cc6-4c9a-dfc8-d51451225a29"
      },
      "execution_count": 45,
      "outputs": [
        {
          "output_type": "execute_result",
          "data": {
            "text/plain": [
              "(['T', 'e', 'n', 's', 'o', 'r', 'f', 'l', 'o'],\n",
              " ['e', 'n', 's', 'o', 'r', 'f', 'l', 'o', 'w'])"
            ]
          },
          "metadata": {},
          "execution_count": 45
        }
      ]
    },
    {
      "cell_type": "code",
      "source": [
        "dataset = sequences.map(split_input_target)"
      ],
      "metadata": {
        "id": "9xT-Hskf90yA"
      },
      "execution_count": 46,
      "outputs": []
    },
    {
      "cell_type": "code",
      "source": [
        "for input_example, target_example in dataset.take(1):\n",
        "    print(\"Input :\", text_from_ids(input_example).numpy())\n",
        "    print(\"Target:\", text_from_ids(target_example).numpy())"
      ],
      "metadata": {
        "colab": {
          "base_uri": "https://localhost:8080/"
        },
        "id": "8eQiJxbD919W",
        "outputId": "3042536a-c024-4a48-fd8e-21b6a28a8ad3"
      },
      "execution_count": 47,
      "outputs": [
        {
          "output_type": "stream",
          "name": "stdout",
          "text": [
            "Input : b'First Citizen:\\nBefore we proceed any further, hear me speak.\\n\\nAll:\\nSpeak, speak.\\n\\nFirst Citizen:\\nYou'\n",
            "Target: b'irst Citizen:\\nBefore we proceed any further, hear me speak.\\n\\nAll:\\nSpeak, speak.\\n\\nFirst Citizen:\\nYou '\n"
          ]
        }
      ]
    },
    {
      "cell_type": "markdown",
      "source": [
        "**Membuat Batch Training**\n",
        "\n",
        "Anda menggunakan tf.data untuk membagi teks menjadi sequence yang dapat diatur. Namun sebelum memasukkan data ini ke dalam model, Anda perlu mengacak data dan mengemasnya ke dalam batch."
      ],
      "metadata": {
        "id": "DprkULji93ar"
      }
    },
    {
      "cell_type": "code",
      "source": [
        "# Batch size\n",
        "BATCH_SIZE = 64\n",
        "\n",
        "# Buffer size to shuffle the dataset\n",
        "# (TF data is designed to work with possibly infinite sequences,\n",
        "# so it doesn't attempt to shuffle the entire sequence in memory. Instead,\n",
        "# it maintains a buffer in which it shuffles elements).\n",
        "BUFFER_SIZE = 10000\n",
        "\n",
        "dataset = (\n",
        "    dataset\n",
        "    .shuffle(BUFFER_SIZE)\n",
        "    .batch(BATCH_SIZE, drop_remainder=True)\n",
        "    .prefetch(tf.data.experimental.AUTOTUNE))\n",
        "\n",
        "dataset"
      ],
      "metadata": {
        "colab": {
          "base_uri": "https://localhost:8080/"
        },
        "id": "zBJcZuWd95i4",
        "outputId": "4d63d691-56d6-420b-f78c-155c18dd94ae"
      },
      "execution_count": 48,
      "outputs": [
        {
          "output_type": "execute_result",
          "data": {
            "text/plain": [
              "<_PrefetchDataset element_spec=(TensorSpec(shape=(64, 100), dtype=tf.int64, name=None), TensorSpec(shape=(64, 100), dtype=tf.int64, name=None))>"
            ]
          },
          "metadata": {},
          "execution_count": 48
        }
      ]
    },
    {
      "cell_type": "markdown",
      "source": [
        "### **Buat Model**\n",
        "Bagian ini mendefinisikan model sebagai subkelas keras.Model (untuk lebih detilnya, lihat Making new Layers and Models via subclassing).\n",
        "\n",
        "Model yang kita bangun memiliki 3 lapisan neural network :\n",
        "\n",
        "* tf.keras.layers.Embedding: Lapisan masukan. Tabel pencarian yang dapat dilatih yang akan memetakan setiap karakter-ID ke vektor dengan dimensi embedding_dim;\n",
        "\n",
        "* tf.keras.layers.GRU: lapisan RNN dengan ukuran unit=rnn_units (Anda juga dapat menggunakan lapisan LSTM di sini.)\n",
        "\n",
        "* tf.keras.layers.Dense: Lapisan keluaran, dengan keluaran vocab_size. Ini menghasilkan satu logit untuk setiap karakter dalam kosakata. Ini adalah log kemungkinan setiap karakter menurut model."
      ],
      "metadata": {
        "id": "UL1S7abT97aF"
      }
    },
    {
      "cell_type": "code",
      "source": [
        "# Length of the vocabulary in StringLookup Layer\n",
        "vocab_size = len(ids_from_chars.get_vocabulary())\n",
        "\n",
        "# The embedding dimension\n",
        "embedding_dim = 256\n",
        "\n",
        "# Number of RNN units\n",
        "rnn_units = 1024"
      ],
      "metadata": {
        "id": "scIRnSPh-B20"
      },
      "execution_count": 49,
      "outputs": []
    },
    {
      "cell_type": "code",
      "source": [
        "\n",
        "class MyModel(tf.keras.Model):\n",
        "  def __init__(self, vocab_size, embedding_dim, rnn_units):\n",
        "    super().__init__(self)\n",
        "    self.embedding = tf.keras.layers.Embedding(vocab_size, embedding_dim)\n",
        "    self.gru = tf.keras.layers.GRU(rnn_units,\n",
        "                                   return_sequences=True,\n",
        "                                   return_state=True)\n",
        "    self.dense = tf.keras.layers.Dense(vocab_size)\n",
        "\n",
        "  def call(self, inputs, states=None, return_state=False, training=False):\n",
        "    x = inputs\n",
        "    x = self.embedding(x, training=training)\n",
        "    if states is None:\n",
        "      states = self.gru.get_initial_state(x)\n",
        "    x, states = self.gru(x, initial_state=states, training=training)\n",
        "    x = self.dense(x, training=training)\n",
        "\n",
        "    if return_state:\n",
        "      return x, states\n",
        "    else:\n",
        "      return x"
      ],
      "metadata": {
        "id": "X-bUSq08-DLb"
      },
      "execution_count": 50,
      "outputs": []
    },
    {
      "cell_type": "code",
      "source": [
        "model = MyModel(\n",
        "    vocab_size=vocab_size,\n",
        "    embedding_dim=embedding_dim,\n",
        "    rnn_units=rnn_units)"
      ],
      "metadata": {
        "id": "mS6dYwyc-Eiw"
      },
      "execution_count": 51,
      "outputs": []
    },
    {
      "cell_type": "markdown",
      "source": [
        "Untuk setiap karakter, model mencari penyematan, menjalankan GRU satu langkah waktu dengan penyematan sebagai masukan, dan menerapkan dense layer untuk menghasilkan log yang memprediksi kemungkinan log karakter berikutnya:\n",
        "\n",
        "![image.png](data:image/png;base64,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)\n",
        "\n",
        "Note: Untuk pelatihan Anda bisa menggunakan model keras.Sequential di sini. Untuk menghasilkan teks nanti, Anda harus mengelola status internal RNN. Akan lebih mudah untuk memasukkan opsi input dan output status di awal, daripada mengatur ulang arsitektur model nanti. untuk detailnya bisa dilihat Keras RNN guide."
      ],
      "metadata": {
        "id": "iTs527Nt-Frs"
      }
    },
    {
      "cell_type": "markdown",
      "source": [
        "### **Uji Model**\n",
        "Coba jalankan model dan cek apakah sidah sesuai dengan output pertama, cek bentuk dari output"
      ],
      "metadata": {
        "id": "jFbItWlg-L9v"
      }
    },
    {
      "cell_type": "code",
      "source": [
        "for input_example_batch, target_example_batch in dataset.take(1):\n",
        "    example_batch_predictions = model(input_example_batch)\n",
        "    print(example_batch_predictions.shape, \"# (batch_size, sequence_length, vocab_size)\")"
      ],
      "metadata": {
        "colab": {
          "base_uri": "https://localhost:8080/"
        },
        "id": "kMAh8Nc6-QV9",
        "outputId": "e7556ac4-29ad-408d-9b55-0f258f1eac29"
      },
      "execution_count": 52,
      "outputs": [
        {
          "output_type": "stream",
          "name": "stdout",
          "text": [
            "(64, 100, 66) # (batch_size, sequence_length, vocab_size)\n"
          ]
        }
      ]
    },
    {
      "cell_type": "markdown",
      "source": [
        "Dalam contoh di atas, panjang urutan masukan adalah 100 tetapi model dapat dijalankan pada masukan dengan panjang berapa pun:"
      ],
      "metadata": {
        "id": "5mRnoFQw-R9N"
      }
    },
    {
      "cell_type": "code",
      "source": [
        "model.summary()"
      ],
      "metadata": {
        "colab": {
          "base_uri": "https://localhost:8080/"
        },
        "id": "WdgHdQR1-TDp",
        "outputId": "631dd952-eee3-4d77-e6cb-8aedb074e7e6"
      },
      "execution_count": 53,
      "outputs": [
        {
          "output_type": "stream",
          "name": "stdout",
          "text": [
            "Model: \"my_model\"\n",
            "_________________________________________________________________\n",
            " Layer (type)                Output Shape              Param #   \n",
            "=================================================================\n",
            " embedding_2 (Embedding)     multiple                  16896     \n",
            "                                                                 \n",
            " gru (GRU)                   multiple                  3938304   \n",
            "                                                                 \n",
            " dense_4 (Dense)             multiple                  67650     \n",
            "                                                                 \n",
            "=================================================================\n",
            "Total params: 4022850 (15.35 MB)\n",
            "Trainable params: 4022850 (15.35 MB)\n",
            "Non-trainable params: 0 (0.00 Byte)\n",
            "_________________________________________________________________\n"
          ]
        }
      ]
    },
    {
      "cell_type": "markdown",
      "source": [
        "Untuk mendapatkan prediksi aktual dari model, Anda perlu mengambil sampel dari distribusi keluaran, untuk mendapatkan indeks karakter aktual. Distribusi ini ditentukan oleh logit pada kosakata karakter. Catatan: Penting untuk mengambil sampel dari distribusi ini karena mengambil argmax dari distribusi tersebut dapat dengan mudah membuat model terjebak dalam infinote loop. Cobalah untuk contoh pertama di batch:"
      ],
      "metadata": {
        "id": "I1TdsaFY-WU-"
      }
    },
    {
      "cell_type": "code",
      "source": [
        "sampled_indices = tf.random.categorical(example_batch_predictions[0], num_samples=1)\n",
        "sampled_indices = tf.squeeze(sampled_indices, axis=-1).numpy()"
      ],
      "metadata": {
        "id": "PD46wHgb-X3h"
      },
      "execution_count": 54,
      "outputs": []
    },
    {
      "cell_type": "markdown",
      "source": [
        "Hal ini memberi kita, pada setiap langkah waktu, prediksi indeks karakter berikutnya:"
      ],
      "metadata": {
        "id": "KPgZeQnc-bh1"
      }
    },
    {
      "cell_type": "code",
      "source": [
        "sampled_indices"
      ],
      "metadata": {
        "colab": {
          "base_uri": "https://localhost:8080/"
        },
        "id": "iGLdAAYZ-cy5",
        "outputId": "8440d553-6026-49b3-88f4-14d9b1ba703c"
      },
      "execution_count": 55,
      "outputs": [
        {
          "output_type": "execute_result",
          "data": {
            "text/plain": [
              "array([24, 35, 35, 10, 64, 62, 29, 17,  5, 20, 26, 32, 49, 11,  6, 47, 35,\n",
              "       42, 58, 31, 51, 63, 14, 16, 53, 18, 39, 16, 23, 42, 42,  6,  8, 21,\n",
              "       22, 32, 57, 39, 54,  4, 37, 48, 30,  4, 33, 14, 62, 26, 62,  8, 26,\n",
              "       26, 31, 50, 30, 10, 37, 22, 18, 20, 47, 25, 36, 19, 61, 13, 54, 46,\n",
              "       28, 34, 52, 62, 11, 62,  1, 44, 17, 24, 42, 19,  6, 31,  6, 49, 61,\n",
              "        7, 62, 40, 52,  2, 54, 33, 29, 56, 27, 21, 63, 60,  1, 49])"
            ]
          },
          "metadata": {},
          "execution_count": 55
        }
      ]
    },
    {
      "cell_type": "markdown",
      "source": [
        "Dekode kode berikut untuk melihat teks yang diprediksi oleh model tidak terlatih ini:"
      ],
      "metadata": {
        "id": "lpyeKflH-eO3"
      }
    },
    {
      "cell_type": "code",
      "source": [
        "print(\"Input:\\n\", text_from_ids(input_example_batch[0]).numpy())\n",
        "print()\n",
        "print(\"Next Char Predictions:\\n\", text_from_ids(sampled_indices).numpy())"
      ],
      "metadata": {
        "colab": {
          "base_uri": "https://localhost:8080/"
        },
        "id": "nzIqLBxu-fZn",
        "outputId": "a76a608e-2bfa-4916-ad5a-275c9dccb6e1"
      },
      "execution_count": 56,
      "outputs": [
        {
          "output_type": "stream",
          "name": "stdout",
          "text": [
            "Input:\n",
            " b'n we call our own but death\\nAnd that small model of the barren earth\\nWhich serves as paste and cover'\n",
            "\n",
            "Next Char Predictions:\n",
            " b\"KVV3ywPD&GMSj:'hVcsRlxACnEZCJcc'-HISrZo$XiQ$TAwMw-MMRkQ3XIEGhLWFv?ogOUmw:w\\neDKcF'R'jv,wam oTPqNHxu\\nj\"\n"
          ]
        }
      ]
    },
    {
      "cell_type": "markdown",
      "source": [
        "### **Train Model**\n",
        "Pada titik ini permasalahan dapat dianggap sebagai permasalahan klasifikasi standar. Permasalahan dapat disimpulkan dengan : Berdasarkan status RNN sebelumnya, dan masukan langkah kali ini, prediksi kelas karakter berikutnya.\n",
        "\n",
        "**Tambahan optimizer dan fungsi loss**\n",
        "\n",
        "loss function tf.keras.losses.sparse_categorical_crossentropy standar berfungsi dalam kasus ini karena diterapkan di seluruh dimensi terakhir prediksi. Karena model Anda mengembalikan logits, Anda perlu mengatur flag from_logits."
      ],
      "metadata": {
        "id": "-S2Q16Bx-g1Q"
      }
    },
    {
      "cell_type": "code",
      "source": [
        "loss = tf.losses.SparseCategoricalCrossentropy(from_logits=True)"
      ],
      "metadata": {
        "id": "Pm82dJK0-keB"
      },
      "execution_count": 57,
      "outputs": []
    },
    {
      "cell_type": "code",
      "source": [
        "example_batch_mean_loss = loss(target_example_batch, example_batch_predictions)\n",
        "print(\"Prediction shape: \", example_batch_predictions.shape, \" # (batch_size, sequence_length, vocab_size)\")\n",
        "print(\"Mean loss:        \", example_batch_mean_loss)"
      ],
      "metadata": {
        "colab": {
          "base_uri": "https://localhost:8080/"
        },
        "id": "8ORy5z80-mDY",
        "outputId": "3f04a49b-44dc-49bc-98a3-1c157a6426be"
      },
      "execution_count": 58,
      "outputs": [
        {
          "output_type": "stream",
          "name": "stdout",
          "text": [
            "Prediction shape:  (64, 100, 66)  # (batch_size, sequence_length, vocab_size)\n",
            "Mean loss:         tf.Tensor(4.1888185, shape=(), dtype=float32)\n"
          ]
        }
      ]
    },
    {
      "cell_type": "markdown",
      "source": [
        "Model yang baru diinisialisasi tidak boleh terlalu yakin dengan dirinya sendiri, semua log keluaran harus memiliki besaran yang sama. Untuk mengonfirmasi hal ini, Anda dapat memeriksa bahwa eksponensial dari loss rata-rata harus kira-kira sama dengan ukuran kosakata. Loss yang jauh lebih tinggi berarti model tersebut yakin akan jawaban yang salah, dan memiliki inisialisasi yang buruk:"
      ],
      "metadata": {
        "id": "gyDkDh57-rpJ"
      }
    },
    {
      "cell_type": "code",
      "source": [
        "tf.exp(example_batch_mean_loss).numpy()"
      ],
      "metadata": {
        "colab": {
          "base_uri": "https://localhost:8080/"
        },
        "id": "sP59TvSa-tA1",
        "outputId": "6e256c5b-bf97-47c8-a321-afd99b35cd93"
      },
      "execution_count": 59,
      "outputs": [
        {
          "output_type": "execute_result",
          "data": {
            "text/plain": [
              "65.944824"
            ]
          },
          "metadata": {},
          "execution_count": 59
        }
      ]
    },
    {
      "cell_type": "markdown",
      "source": [
        "Konfigurasikan prosedur pelatihan menggunakan metode tf.keras.Model.compile. Gunakan tf.keras.optimizers.Adam dengan argumen default dan fungsi loss."
      ],
      "metadata": {
        "id": "x8bhrHSh-vaw"
      }
    },
    {
      "cell_type": "code",
      "source": [
        "model.compile(optimizer='adam', loss=loss)"
      ],
      "metadata": {
        "id": "NYwrx2BO-vUp"
      },
      "execution_count": 60,
      "outputs": []
    },
    {
      "cell_type": "markdown",
      "source": [
        "**Konfigurasi Checkpoints**\n",
        "\n",
        "Gunakan tf.keras.callbacks.ModelCheckpoint untuk memastikan bahwa checkpoint disimpan selama pelatihan:"
      ],
      "metadata": {
        "id": "K1hVgaWS-yET"
      }
    },
    {
      "cell_type": "code",
      "source": [
        "# Directory where the checkpoints will be saved\n",
        "checkpoint_dir = './training_checkpoints'\n",
        "# Name of the checkpoint files\n",
        "checkpoint_prefix = os.path.join(checkpoint_dir, \"ckpt_{epoch}\")\n",
        "\n",
        "checkpoint_callback = tf.keras.callbacks.ModelCheckpoint(\n",
        "    filepath=checkpoint_prefix,\n",
        "    save_weights_only=True)"
      ],
      "metadata": {
        "id": "qE6xCEdt-08u"
      },
      "execution_count": 61,
      "outputs": []
    },
    {
      "cell_type": "markdown",
      "source": [
        "**Lakukan Proses Training**\n",
        "\n",
        "Agar waktu pelatihan tidak terlalu lama, gunakan 10 epoch untuk melatih model. Di Colab, setel runtime ke GPU untuk pelatihan yang lebih cepat."
      ],
      "metadata": {
        "id": "pX1yq5wG-2Lh"
      }
    },
    {
      "cell_type": "code",
      "source": [
        "EPOCHS = 20"
      ],
      "metadata": {
        "id": "CesQM0r1-7v7"
      },
      "execution_count": 62,
      "outputs": []
    },
    {
      "cell_type": "code",
      "source": [
        "history = model.fit(dataset, epochs=EPOCHS, callbacks=[checkpoint_callback])"
      ],
      "metadata": {
        "colab": {
          "base_uri": "https://localhost:8080/"
        },
        "id": "w1t0AfZw-9PY",
        "outputId": "0d89fab0-f7bd-41c0-f33d-d7e2f662752e"
      },
      "execution_count": 63,
      "outputs": [
        {
          "output_type": "stream",
          "name": "stdout",
          "text": [
            "Epoch 1/20\n",
            "172/172 [==============================] - 13s 54ms/step - loss: 2.7025\n",
            "Epoch 2/20\n",
            "172/172 [==============================] - 11s 53ms/step - loss: 1.9794\n",
            "Epoch 3/20\n",
            "172/172 [==============================] - 11s 53ms/step - loss: 1.6997\n",
            "Epoch 4/20\n",
            "172/172 [==============================] - 11s 53ms/step - loss: 1.5406\n",
            "Epoch 5/20\n",
            "172/172 [==============================] - 11s 54ms/step - loss: 1.4431\n",
            "Epoch 6/20\n",
            "172/172 [==============================] - 11s 54ms/step - loss: 1.3757\n",
            "Epoch 7/20\n",
            "172/172 [==============================] - 11s 54ms/step - loss: 1.3245\n",
            "Epoch 8/20\n",
            "172/172 [==============================] - 11s 54ms/step - loss: 1.2785\n",
            "Epoch 9/20\n",
            "172/172 [==============================] - 12s 54ms/step - loss: 1.2378\n",
            "Epoch 10/20\n",
            "172/172 [==============================] - 12s 55ms/step - loss: 1.1992\n",
            "Epoch 11/20\n",
            "172/172 [==============================] - 11s 55ms/step - loss: 1.1581\n",
            "Epoch 12/20\n",
            "172/172 [==============================] - 11s 55ms/step - loss: 1.1160\n",
            "Epoch 13/20\n",
            "172/172 [==============================] - 11s 55ms/step - loss: 1.0724\n",
            "Epoch 14/20\n",
            "172/172 [==============================] - 12s 56ms/step - loss: 1.0261\n",
            "Epoch 15/20\n",
            "172/172 [==============================] - 11s 55ms/step - loss: 0.9762\n",
            "Epoch 16/20\n",
            "172/172 [==============================] - 11s 56ms/step - loss: 0.9249\n",
            "Epoch 17/20\n",
            "172/172 [==============================] - 12s 56ms/step - loss: 0.8721\n",
            "Epoch 18/20\n",
            "172/172 [==============================] - 11s 56ms/step - loss: 0.8189\n",
            "Epoch 19/20\n",
            "172/172 [==============================] - 11s 56ms/step - loss: 0.7669\n",
            "Epoch 20/20\n",
            "172/172 [==============================] - 11s 56ms/step - loss: 0.7190\n"
          ]
        }
      ]
    },
    {
      "cell_type": "markdown",
      "source": [
        "### **Generate Teks**\n",
        "Cara termudah untuk menghasilkan teks dengan model ini adalah dengan menjalankannya dalam loop, dan menyimpan status internal model saat Anda menjalankannya.\n",
        "\n",
        "![image.png](data:image/png;base64,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)\n",
        "\n",
        "Setiap kali Anda memanggil model, Anda memasukkan beberapa teks dan state internal. Model mengembalikan prediksi untuk karakter berikutnya dan state barunya. Masukkan kembali prediksi dan state ke model untuk terus menghasilkan teks.\n",
        "\n",
        "Berikut ini membuat prediksi satu langkah:"
      ],
      "metadata": {
        "id": "aaxVCY-8_Ckr"
      }
    },
    {
      "cell_type": "code",
      "source": [
        "class OneStep(tf.keras.Model):\n",
        "  def __init__(self, model, chars_from_ids, ids_from_chars, temperature=1.0):\n",
        "    super().__init__()\n",
        "    self.temperature = temperature\n",
        "    self.model = model\n",
        "    self.chars_from_ids = chars_from_ids\n",
        "    self.ids_from_chars = ids_from_chars\n",
        "\n",
        "    # Create a mask to prevent \"[UNK]\" from being generated.\n",
        "    skip_ids = self.ids_from_chars(['[UNK]'])[:, None]\n",
        "    sparse_mask = tf.SparseTensor(\n",
        "        # Put a -inf at each bad index.\n",
        "        values=[-float('inf')]*len(skip_ids),\n",
        "        indices=skip_ids,\n",
        "        # Match the shape to the vocabulary\n",
        "        dense_shape=[len(ids_from_chars.get_vocabulary())])\n",
        "    self.prediction_mask = tf.sparse.to_dense(sparse_mask)\n",
        "\n",
        "  @tf.function\n",
        "  def generate_one_step(self, inputs, states=None):\n",
        "    # Convert strings to token IDs.\n",
        "    input_chars = tf.strings.unicode_split(inputs, 'UTF-8')\n",
        "    input_ids = self.ids_from_chars(input_chars).to_tensor()\n",
        "\n",
        "    # Run the model.\n",
        "    # predicted_logits.shape is [batch, char, next_char_logits]\n",
        "    predicted_logits, states = self.model(inputs=input_ids, states=states,\n",
        "                                          return_state=True)\n",
        "    # Only use the last prediction.\n",
        "    predicted_logits = predicted_logits[:, -1, :]\n",
        "    predicted_logits = predicted_logits/self.temperature\n",
        "    # Apply the prediction mask: prevent \"[UNK]\" from being generated.\n",
        "    predicted_logits = predicted_logits + self.prediction_mask\n",
        "\n",
        "    # Sample the output logits to generate token IDs.\n",
        "    predicted_ids = tf.random.categorical(predicted_logits, num_samples=1)\n",
        "    predicted_ids = tf.squeeze(predicted_ids, axis=-1)\n",
        "\n",
        "    # Convert from token ids to characters\n",
        "    predicted_chars = self.chars_from_ids(predicted_ids)\n",
        "\n",
        "    # Return the characters and model state.\n",
        "    return predicted_chars, states"
      ],
      "metadata": {
        "id": "-vm4Qt6C_NHN"
      },
      "execution_count": 64,
      "outputs": []
    },
    {
      "cell_type": "code",
      "source": [
        "one_step_model = OneStep(model, chars_from_ids, ids_from_chars)"
      ],
      "metadata": {
        "id": "twAlU0uQ_Ojf"
      },
      "execution_count": 65,
      "outputs": []
    },
    {
      "cell_type": "markdown",
      "source": [
        "Jalankan secara berulang untuk menghasilkan beberapa teks. Melihat teks yang dihasilkan, Anda akan melihat model mengetahui kapan harus menggunakan huruf besar, membuat paragraf, dan meniru kosakata menulis seperti Shakespeare. Karena sedikitnya jumlah epoch pelatihan, model belum belajar membentuk kalimat runtut."
      ],
      "metadata": {
        "id": "uURBdB7P_P32"
      }
    },
    {
      "cell_type": "code",
      "source": [
        "start = time.time()\n",
        "states = None\n",
        "next_char = tf.constant(['ROMEO:'])\n",
        "result = [next_char]\n",
        "\n",
        "for n in range(1000):\n",
        "  next_char, states = one_step_model.generate_one_step(next_char, states=states)\n",
        "  result.append(next_char)\n",
        "\n",
        "result = tf.strings.join(result)\n",
        "end = time.time()\n",
        "print(result[0].numpy().decode('utf-8'), '\\n\\n' + '_'*80)\n",
        "print('\\nRun time:', end - start)"
      ],
      "metadata": {
        "colab": {
          "base_uri": "https://localhost:8080/"
        },
        "id": "sSGqrYAP_RSK",
        "outputId": "3c314bf3-bb77-42c5-cd8f-2b6c40792a9d"
      },
      "execution_count": 66,
      "outputs": [
        {
          "output_type": "stream",
          "name": "stdout",
          "text": [
            "ROMEO:\n",
            "Engain too, read like that, I must won.\n",
            "\n",
            "FRIAR LAURENCE:\n",
            "Bear with him, not for my tent?\n",
            "\n",
            "FRIAR LAURENCE:\n",
            "Hold thy depart, that it is your trial wate?\n",
            "Thy mother, title, leave this ragies.\n",
            "\n",
            "YORK:\n",
            "This is the parliament home again,--no;\n",
            "Your highness I cannot, ten too yours.\n",
            "\n",
            "JULIET:\n",
            "Ay, how neave we him till they would not peed?\n",
            "\n",
            "BAPTISTA:\n",
            "\n",
            "PAGE:\n",
            "It would you have that made that blow of thee.\n",
            "\n",
            "QUEEN MARGARET:\n",
            "Poor! she that she is oldiern; that you hit\n",
            "the worst. For you to-morrow, there lies\n",
            "The imposition of my life is mine, I live,\n",
            "Put not a jot that vain charges there.\n",
            "\n",
            "ESCALUS:\n",
            "Master farther.\n",
            "\n",
            "MENENIUS:\n",
            "For this children, old Anon, my lord\n",
            "Within their chails, and even notting him\n",
            "I' the sun they busy winder from\n",
            "Pest, that did him such sour cut is the wall;\n",
            "Some fair riddles? Was such a prince of Tybalt,\n",
            "Thy blessed sailors that did time to thee,\n",
            "Whilst I propose you, friar, when I did enviou.\n",
            "\n",
            "GLOUCESTER:\n",
            "Would you not proud, the punt hungly?\n",
            "\n",
            "SICINIUS:\n",
            "Have I the judge's\n",
            "Jock \n",
            "\n",
            "________________________________________________________________________________\n",
            "\n",
            "Run time: 3.3630032539367676\n"
          ]
        }
      ]
    },
    {
      "cell_type": "markdown",
      "source": [
        "Hal termudah yang dapat Anda lakukan untuk meningkatkan hasil adalah dengan melatihnya lebih lama (coba EPOCHS = 30). Anda juga dapat bereksperimen dengan string awal yang berbeda, mencoba menambahkan lapisan RNN lain untuk meningkatkan akurasi model, atau menyesuaikan parameter suhu untuk menghasilkan prediksi yang kurang lebih acak.\n",
        "\n",
        "Jika Anda ingin model menghasilkan teks lebih cepat, hal termudah yang dapat Anda lakukan adalah membuat teks secara batch. Pada contoh di bawah, model menghasilkan 5 keluaran dalam waktu yang hampir sama dengan waktu yang dibutuhkan untuk menghasilkan 1 keluaran di atas."
      ],
      "metadata": {
        "id": "69WSatGo_T7r"
      }
    },
    {
      "cell_type": "code",
      "source": [
        "start = time.time()\n",
        "states = None\n",
        "next_char = tf.constant(['ROMEO:', 'ROMEO:', 'ROMEO:', 'ROMEO:', 'ROMEO:'])\n",
        "result = [next_char]\n",
        "\n",
        "for n in range(1000):\n",
        "  next_char, states = one_step_model.generate_one_step(next_char, states=states)\n",
        "  result.append(next_char)\n",
        "\n",
        "result = tf.strings.join(result)\n",
        "end = time.time()\n",
        "print(result, '\\n\\n' + '_'*80)\n",
        "print('\\nRun time:', end - start)"
      ],
      "metadata": {
        "colab": {
          "base_uri": "https://localhost:8080/"
        },
        "id": "6Ax7cQUs_Vlt",
        "outputId": "caf3dbf1-e6ed-47b2-dc9e-a86ae3b693d3"
      },
      "execution_count": 67,
      "outputs": [
        {
          "output_type": "stream",
          "name": "stdout",
          "text": [
            "tf.Tensor(\n",
            "[b\"ROMEO:\\nEngland, noble toaching, yea, that speed\\nIs promised me a year and my own.\\n\\nKING HENRY VI:\\nThe king is come: little joy that he hath\\nappeally again:--\\nLuke's to a Mortalut, Edward's son, which\\nTo do with all pleased, to eyes his son's son?\\n\\nRIVERS:\\nShall we here--you mock at up,\\nThrow other to the fault, I would fain ha?\\n\\nGREMIO:\\nAnd Here's my dear earry sentence,\\nFrom once that end I'll short in being a babe:\\nHere comes your brother;--Only, fresh,-swears, holy\\nThat's such as much time part on, and live too little\\nMy lightness to my soul, and not\\nTo give my countenance. I was humbler a slave?\\nFor making champing of my footed son,\\nHear me both light for laughters wife, his eye,\\nAm cover' you, we give me like a guest,\\nMake path'd in men ne'er shunn and born to see the\\nthreshernows of altiller. Nay, by my brother, soon\\nare they all unjustly, and to redeem you out\\nof battle, whose infitsel is so;\\nFor hence hath pubsuisies already, waves will be\\nFredefore? the bay is lost to tear\\nThe state\"\n",
            " b\"ROMEO:\\nWhat dagger of Marcius,\\nHow well I will forget, to have drunk? wouldst temple\\nTillu a pricked officer: his subjects full.\\nWhich, was but a madam?\\n\\nMERCUTIO:\\nTut, I thank you, good sir, whisper, nothing so? O, you that else,\\nTill they return: bastars, friar. For that,\\nWhen he doth think but Hereford live most:\\n'Tis not afflictime to me and my trust from me\\nThus world allays thee time some other skin?\\nBut what said Henry now, and what is true.\\n\\nLADY CAPULET:\\nFirst, for this tooth on; and this thou hast yet did.\\n\\nGLOUCESTER:\\nIt shall be spoke with mine apostles;\\nYour shipless hands your son, were truely that I am\\nFromace and drunk and new his daughter too.\\n\\nBIRKOLIO:\\nSir, I will take this hand forbear:\\nThy title with a thousand officer:\\nMy soul exempt in all post. If I can lie discourse,\\nAnd succeed the harm, sister of her moiety.\\nAnd yet, besceed in him and hear me.\\n\\nFRIAR LAURENCE:\\nForget, my liegh; else have been as crait\\nWhich in the table and subject.\\n\\nMERCUTIO:\\nI am thus;' prolount\"\n",
            " b\"ROMEO:\\nGremio told me, Is'th be pleased\\nTo make him glad to stop again:\\nLet smock her death before him: I rather\\nYour pleasure in STANUSBY:\\nHe, sir, I hear,\\nAnd, fair'st thou takest vile Menenius.\\n\\nLARTIUS:\\nHe cannot light on, and smooth.\\nHow now you first much to hear good Cominius?\\n\\nLORDS:\\nWhy these this setten judgment call\\nA little guard importune to pardon\\nLucentio sworn methort: 'tis thought they lad!\\n\\nGLOUCESTER:\\nI dare not saint, let hambin me:\\nBut bowful laudest thou titles emace,\\nOr worthily and rude and walk about to him\\nThat thou camest Adderman.\\n\\nMENENIUS:\\nHe is it through the ladies of My leabut:\\nGo in, come. Why then, I beseech your majesty,\\nWere I answer 'Shall.'\\nHis name that madest thin, there too.\\n\\nJOHNNE:\\nWhy should I cryar your favours: yet do't with nots\\nOf dogs of state, as if the tempted maid\\nShall Bolingbroke as fitted for grief.\\nNow shall we do rot assurance?\\n\\nROMEO:\\nWhy, and I command' in his age.\\n\\nPETRUCHIO:\\nI'll fow we are yours.\\n\\nLARTIUS:\\nHence with him, nor han\"\n",
            " b\"ROMEO:\\nStay, chastisen, mettorn. For such a warrant for us\\nTo save this fair cordict of itless whore,\\nWho was born his tongue.\\n\\nMERCUTIO:\\nRomeo should say what he is even now and tell him dwell;\\nWho a liguteness worthy woman,\\nThe offecter for his oath of grief.\\nLet him thou lam,'st but love of life,\\nI dare not stay the parties of my leave.\\n\\nLEONTES:\\nTo the sun that's not proud? day it is now\\nThat hour is our commission; even so fit it,\\nHad worn the hat, a brief, a tashion's dign;\\nHer quaint it, and the root stars here,\\nTo make our reasons rest this waithful:\\nMercy was the which we have all obedience.\\nTut, hadst thou with a witness to his prince.\\n\\nLUCENTIO:\\nHe dread, I pray, go do to save but youth:\\nFor then, to hang upon't, our discords to ours,\\nUnto a close excuse; and then great lives that,\\nwhich some sailors on the ways; I was adoot\\nmine arrived from a wasping; here's no absent,\\nShould be post-patient tongue-tied.\\nUncle, her states are now again. Cambion to me as thy\\nfault's come again;\\nT\"\n",
            " b\"ROMEO:\\nShe is suffer, I raised with unsonging\\nJusterity: he hath kill'd my only hole.\\n\\nDUKE VINCENTIO:\\nHow fares our horses! I am the shepherd's garden, he\\nwill seem and these those wrongs with special gentlewoman:\\nMake faster years ere I come to thee.\\n\\nPETRUCHIO:\\nLatchess! why, thou art deceived;\\nI never so deliver; and they stay well seen,\\nMy loving thranes and thy father steels.\\nThe means that calls agon behild; but we should\\nrepused this pitufunce and my kinsman's blood\\nDoth for my father's life together.\\nThere is, a burth; and speak me in her flight,\\nAnd west their wailing in my throat towmssey\\nPut in a fearful tinger to his wife\\nThat I will say thee at thy virtues.\\n\\nFRIAR LAURENCE:\\nStay, yet you for a mad--O-breathed him\\nTo suit as yours,\\nNor time it kindes enough all the hamping.\\n\\nBENVOLIO:\\nMut thou art taken: let you think,\\nTo fight in Policion, freely shall\\npread with him.\\nBut I was never since you dame!\\n\\nMENENIUS:\\nI think 'tis my word, which is full out\\nMy wits and remembered. Whic\"], shape=(5,), dtype=string) \n",
            "\n",
            "________________________________________________________________________________\n",
            "\n",
            "Run time: 4.850436449050903\n"
          ]
        }
      ]
    },
    {
      "cell_type": "markdown",
      "source": [
        "### **Ekspor Model Generator**\n",
        "Model satu langkah ini dapat dengan mudah disimpan dan digunakan kembali, memungkinkan Anda menggunakannya di mana pun tf.saved_model diterima."
      ],
      "metadata": {
        "id": "UF1E1RH__XF8"
      }
    },
    {
      "cell_type": "code",
      "source": [
        "tf.saved_model.save(one_step_model, 'one_step')\n",
        "one_step_reloaded = tf.saved_model.load('one_step')"
      ],
      "metadata": {
        "colab": {
          "base_uri": "https://localhost:8080/"
        },
        "id": "eDit7RnN_bLF",
        "outputId": "72e59e25-7914-41d4-ef6c-a954cc49a7eb"
      },
      "execution_count": 68,
      "outputs": [
        {
          "output_type": "stream",
          "name": "stderr",
          "text": [
            "WARNING:tensorflow:Skipping full serialization of Keras layer <__main__.OneStep object at 0x7e47eadcfb80>, because it is not built.\n",
            "WARNING:tensorflow:Model's `__init__()` arguments contain non-serializable objects. Please implement a `get_config()` method in the subclassed Model for proper saving and loading. Defaulting to empty config.\n",
            "WARNING:tensorflow:Model's `__init__()` arguments contain non-serializable objects. Please implement a `get_config()` method in the subclassed Model for proper saving and loading. Defaulting to empty config.\n"
          ]
        }
      ]
    },
    {
      "cell_type": "code",
      "source": [
        "states = None\n",
        "next_char = tf.constant(['ROMEO:'])\n",
        "result = [next_char]\n",
        "\n",
        "for n in range(100):\n",
        "  next_char, states = one_step_reloaded.generate_one_step(next_char, states=states)\n",
        "  result.append(next_char)\n",
        "\n",
        "print(tf.strings.join(result)[0].numpy().decode(\"utf-8\"))"
      ],
      "metadata": {
        "colab": {
          "base_uri": "https://localhost:8080/"
        },
        "id": "n7dZz58R_cdT",
        "outputId": "b541f488-57b5-471b-c5af-c14aa4784b9f"
      },
      "execution_count": 69,
      "outputs": [
        {
          "output_type": "stream",
          "name": "stdout",
          "text": [
            "ROMEO:\n",
            "Why, what news?\n",
            "\n",
            "HASTINGS:\n",
            "In that I know out right and my own lifing?\n",
            "Think within thy father by h\n"
          ]
        }
      ]
    },
    {
      "cell_type": "markdown",
      "source": [
        "### **TUGAS**\n",
        "\n",
        "Prosedur pelatihan pada praktikum 2 merupakan prosedur sederhana, yang tidak memberi Anda banyak kendali. Model ini menggunakan \"teacher-forcing\" yang mencegah prediksi buruk diumpankan kembali ke model, sehingga model tidak pernah belajar untuk pulih dari kesalahan. Jadi, setelah Anda melihat cara menjalankan model secara manual, selanjutnya Anda akan mengimplementasikan custom loop pelatihan. Hal ini memberikan titik awal jika, misalnya, Anda ingin menerapkan pembelajaran kurikulum untuk membantu menstabilkan keluaran open-loop model. Bagian terpenting dari loop pelatihan khusus adalah fungsi langkah pelatihan.\n",
        "\n",
        "Gunakan tf.GradientTape untuk men track nilai gradient. Anda dapat mempelajari lebih lanjut tentang pendekatan ini dengan membaca eager execution guide.\n",
        "\n",
        "Prosedurnya adalah \"\n",
        "\n",
        "1. Jalankan Model dan hitung loss dengan tf.GradientTape.\n",
        "2. Hitung update dan terapkan pada model dengan optimizer"
      ],
      "metadata": {
        "id": "ERypX2WpC8v0"
      }
    },
    {
      "cell_type": "markdown",
      "source": [
        "### **Jawab**"
      ],
      "metadata": {
        "id": "YjqljA8aHyK-"
      }
    },
    {
      "cell_type": "code",
      "source": [
        "class CustomTraining(MyModel):\n",
        "  @tf.function\n",
        "  def train_step(self, inputs):\n",
        "    inputs, labels = inputs\n",
        "    with tf.GradientTape() as tape:\n",
        "      predictions = self(inputs, training=True)\n",
        "      loss = self.loss(labels, predictions)\n",
        "      grads = tape.gradient(loss, model.trainable_variables)\n",
        "      self.optimizer.apply_gradients(zip(grads, model.trainable_variables))\n",
        "\n",
        "      return {'loss': loss}"
      ],
      "metadata": {
        "id": "-d2RyjRbFet7"
      },
      "execution_count": 70,
      "outputs": []
    },
    {
      "cell_type": "code",
      "source": [
        "model = CustomTraining(\n",
        "    vocab_size=len(ids_from_chars.get_vocabulary()),\n",
        "    embedding_dim=embedding_dim,\n",
        "    rnn_units=rnn_units)"
      ],
      "metadata": {
        "id": "D1Gaazh9Fk-g"
      },
      "execution_count": 71,
      "outputs": []
    },
    {
      "cell_type": "code",
      "source": [
        "model.compile(optimizer = tf.keras.optimizers.Adam(), loss=tf.keras.losses.SparseCategoricalCrossentropy(from_logits=True))"
      ],
      "metadata": {
        "id": "dHYr3wz3ky4R"
      },
      "execution_count": 72,
      "outputs": []
    },
    {
      "cell_type": "code",
      "source": [
        "model.fit(dataset, epochs=1)"
      ],
      "metadata": {
        "id": "T9qrYsUGk0je",
        "outputId": "a5dfbbee-8d42-4ebd-e4ac-1479a3a51e22",
        "colab": {
          "base_uri": "https://localhost:8080/"
        }
      },
      "execution_count": 73,
      "outputs": [
        {
          "output_type": "stream",
          "name": "stdout",
          "text": [
            "172/172 [==============================] - 15s 55ms/step - loss: 2.7064\n"
          ]
        },
        {
          "output_type": "execute_result",
          "data": {
            "text/plain": [
              "<keras.src.callbacks.History at 0x7e4736167760>"
            ]
          },
          "metadata": {},
          "execution_count": 73
        }
      ]
    },
    {
      "cell_type": "code",
      "source": [
        "EPOCHS = 10\n",
        "\n",
        "mean = tf.metrics.Mean()\n",
        "\n",
        "for epoch in range(EPOCHS):\n",
        "  start = time.time()\n",
        "\n",
        "  mean.reset_states()\n",
        "  for (batch_n, (inp, target)) in enumerate(dataset):\n",
        "    logs = model.train_step([inp, target])\n",
        "    mean.update_state(logs['loss'])\n",
        "\n",
        "    if batch_n % 50 == 0:\n",
        "      template = f\"Epoch {epoch+1} Batch {batch_n} Loss {logs['loss']:.4f}\"\n",
        "      print(template)\n",
        "\n",
        "  # saving (checkpoint) the model every 5 epochs\n",
        "  if (epoch + 1) % 5 == 0:\n",
        "    model.save_weights(checkpoint_prefix.format(epoch=epoch))\n",
        "\n",
        "  print()\n",
        "  print(f'Epoch {epoch+1} Loss: {mean.result().numpy():.4f}')\n",
        "  print(f'Time taken for 1 epoch {time.time() - start:.2f} sec')\n",
        "  print(\"_\"*80)\n",
        "\n",
        "model.save_weights(checkpoint_prefix.format(epoch=epoch))"
      ],
      "metadata": {
        "id": "QVLPTtGnk2wo",
        "outputId": "69915514-7c5c-46c5-c01d-5f4b6b4706c7",
        "colab": {
          "base_uri": "https://localhost:8080/"
        }
      },
      "execution_count": 74,
      "outputs": [
        {
          "output_type": "stream",
          "name": "stdout",
          "text": [
            "Epoch 1 Batch 0 Loss 2.1709\n",
            "Epoch 1 Batch 50 Loss 2.0446\n",
            "Epoch 1 Batch 100 Loss 1.9730\n",
            "Epoch 1 Batch 150 Loss 1.8638\n",
            "\n",
            "Epoch 1 Loss: 1.9839\n",
            "Time taken for 1 epoch 13.20 sec\n",
            "________________________________________________________________________________\n",
            "Epoch 2 Batch 0 Loss 1.8017\n",
            "Epoch 2 Batch 50 Loss 1.7329\n",
            "Epoch 2 Batch 100 Loss 1.6973\n",
            "Epoch 2 Batch 150 Loss 1.5964\n",
            "\n",
            "Epoch 2 Loss: 1.7054\n",
            "Time taken for 1 epoch 11.67 sec\n",
            "________________________________________________________________________________\n",
            "Epoch 3 Batch 0 Loss 1.5800\n",
            "Epoch 3 Batch 50 Loss 1.5746\n",
            "Epoch 3 Batch 100 Loss 1.4999\n",
            "Epoch 3 Batch 150 Loss 1.4807\n",
            "\n",
            "Epoch 3 Loss: 1.5460\n",
            "Time taken for 1 epoch 11.14 sec\n",
            "________________________________________________________________________________\n",
            "Epoch 4 Batch 0 Loss 1.4616\n",
            "Epoch 4 Batch 50 Loss 1.4555\n",
            "Epoch 4 Batch 100 Loss 1.4388\n",
            "Epoch 4 Batch 150 Loss 1.4026\n",
            "\n",
            "Epoch 4 Loss: 1.4471\n",
            "Time taken for 1 epoch 10.72 sec\n",
            "________________________________________________________________________________\n",
            "Epoch 5 Batch 0 Loss 1.4143\n",
            "Epoch 5 Batch 50 Loss 1.3708\n",
            "Epoch 5 Batch 100 Loss 1.3674\n",
            "Epoch 5 Batch 150 Loss 1.3408\n",
            "\n",
            "Epoch 5 Loss: 1.3797\n",
            "Time taken for 1 epoch 10.82 sec\n",
            "________________________________________________________________________________\n",
            "Epoch 6 Batch 0 Loss 1.3542\n",
            "Epoch 6 Batch 50 Loss 1.2966\n",
            "Epoch 6 Batch 100 Loss 1.2838\n",
            "Epoch 6 Batch 150 Loss 1.3704\n",
            "\n",
            "Epoch 6 Loss: 1.3274\n",
            "Time taken for 1 epoch 10.83 sec\n",
            "________________________________________________________________________________\n",
            "Epoch 7 Batch 0 Loss 1.2703\n",
            "Epoch 7 Batch 50 Loss 1.3044\n",
            "Epoch 7 Batch 100 Loss 1.3008\n",
            "Epoch 7 Batch 150 Loss 1.2882\n",
            "\n",
            "Epoch 7 Loss: 1.2825\n",
            "Time taken for 1 epoch 10.85 sec\n",
            "________________________________________________________________________________\n",
            "Epoch 8 Batch 0 Loss 1.2267\n",
            "Epoch 8 Batch 50 Loss 1.2245\n",
            "Epoch 8 Batch 100 Loss 1.2550\n",
            "Epoch 8 Batch 150 Loss 1.2273\n",
            "\n",
            "Epoch 8 Loss: 1.2402\n",
            "Time taken for 1 epoch 10.92 sec\n",
            "________________________________________________________________________________\n",
            "Epoch 9 Batch 0 Loss 1.2122\n",
            "Epoch 9 Batch 50 Loss 1.1939\n",
            "Epoch 9 Batch 100 Loss 1.2222\n",
            "Epoch 9 Batch 150 Loss 1.1760\n",
            "\n",
            "Epoch 9 Loss: 1.2017\n",
            "Time taken for 1 epoch 20.47 sec\n",
            "________________________________________________________________________________\n",
            "Epoch 10 Batch 0 Loss 1.1466\n",
            "Epoch 10 Batch 50 Loss 1.1402\n",
            "Epoch 10 Batch 100 Loss 1.1790\n",
            "Epoch 10 Batch 150 Loss 1.1980\n",
            "\n",
            "Epoch 10 Loss: 1.1609\n",
            "Time taken for 1 epoch 11.81 sec\n",
            "________________________________________________________________________________\n"
          ]
        }
      ]
    },
    {
      "cell_type": "markdown",
      "source": [
        "****\n",
        "Jalankan kode diatas dan sebutkan perbedaanya dengan praktikum 2?\n",
        "### **Jawab**\n",
        "Perbedaan antara kode tugas dengan praktikum 2 terletak pada prosedur pelatihan. Pada praktikum 2 menggunakan pendekatan pelatihan yang lebih sederhana dan umum digunakan, dengan model.fit. Sedangkan kode pada tugas menggambarkan pendekatan pelatihan yang lebih spesifik dan kompleks, yang dilakukan beberapa kustomisasi.\n",
        "\n",
        "\n",
        "Sedangkan dari hasil dari praktikum 2 adalah informasi singkat tentang loss selama pelatihan tanpa informasi lebih lanjut tentang perbedaan antar epoch atau waktu eksekusi.\n",
        "Dalam pelatihan tugas , mencantumkan loss untuk setiap batch dan untuk setiap epoch, serta waktu yang diperlukan untuk menjalankan setiap epoch.\n"
      ],
      "metadata": {
        "id": "gUfyuTW3z-KC"
      }
    }
  ]
}